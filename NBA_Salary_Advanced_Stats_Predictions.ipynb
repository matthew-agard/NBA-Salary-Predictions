{
 "cells": [
  {
   "cell_type": "markdown",
   "metadata": {
    "colab_type": "text",
    "id": "WROzUUldhoit"
   },
   "source": [
    "Matthew Agard\n",
    "\n",
    "Machine Learning, CPTR475\n",
    "\n",
    "Final Project\n",
    "\n",
    "12/13/18"
   ]
  },
  {
   "cell_type": "markdown",
   "metadata": {
    "colab_type": "text",
    "id": "Wwo_90b9hoiw"
   },
   "source": [
    "# Understanding the Problem"
   ]
  },
  {
   "cell_type": "markdown",
   "metadata": {
    "colab_type": "text",
    "id": "8pfRyZKhhoix"
   },
   "source": [
    "https://www.kaggle.com/aishjun/nba-salaries-prediction-in-20172018-season\n",
    "\n",
    "Additional files required:\n",
    "- ``future_encoders.py``"
   ]
  },
  {
   "cell_type": "markdown",
   "metadata": {
    "colab_type": "text",
    "id": "v4DiM8Wmhoi0"
   },
   "source": [
    "## Predicting NBA Player Salaries\n",
    "\n",
    "The \"2017-18_NBA_salary.csv\" dataset from Kaggle will be experimented upon in this notebook with the intent to unveil the correlation between an NBA player’s statistical output over the course of the 2017-18 NBA season and their salary for that same time period. \n",
    "\n",
    "It should be noted that this particular dataset isn’t comprised of traditional NBA stats such as points per game (PPG) or rebounds per game (RPG), but rather in advanced NBA stats such as win shares (WS) and player efficiency rating (PER). Using these advanced statistics is quickly becoming a growing trend in the NBA in deciding impactful team personnel outcomes.\n",
    "\n"
   ]
  },
  {
   "cell_type": "markdown",
   "metadata": {
    "colab_type": "text",
    "id": "mu1hE5gDhoi2"
   },
   "source": [
    "## Problem Structure\n",
    "\n",
    "This is a supervised regression problem because the dataset comes with the salary labels, which are continuous values that can be outputted as estimates by my models--which will be evaluated using the root mean squared error (RMSE) metric.\n"
   ]
  },
  {
   "cell_type": "markdown",
   "metadata": {
    "colab_type": "text",
    "id": "Y82AdBcWz1bZ"
   },
   "source": [
    "### Import Necessary Files & Modules"
   ]
  },
  {
   "cell_type": "code",
   "execution_count": 0,
   "metadata": {
    "colab": {},
    "colab_type": "code",
    "id": "qmQZUmbKhoi3"
   },
   "outputs": [],
   "source": [
    "# To support both python 2 and python 3\n",
    "from __future__ import division, print_function, unicode_literals\n",
    "\n",
    "# Common imports\n",
    "import numpy as np\n",
    "import os\n",
    "\n",
    "# to make this notebook's output stable across runs\n",
    "np.random.seed(42)\n",
    "\n",
    "# To plot pretty figures\n",
    "%matplotlib inline\n",
    "import matplotlib\n",
    "import matplotlib.pyplot as plt\n",
    "plt.rcParams['axes.labelsize'] = 14\n",
    "plt.rcParams['xtick.labelsize'] = 12\n",
    "plt.rcParams['ytick.labelsize'] = 12\n",
    "\n",
    "# Where to save the figures\n",
    "PROJECT_ROOT_DIR = \".\"\n",
    "IMAGES_PATH = os.path.join(PROJECT_ROOT_DIR, \"images\")\n",
    "\n",
    "def save_fig(fig_id, tight_layout=True, fig_extension=\"png\", resolution=300):\n",
    "    path = os.path.join(IMAGES_PATH, fig_id + \".\" + fig_extension)\n",
    "    print(\"Saving figure\", path)\n",
    "    if tight_layout:\n",
    "        plt.tight_layout()\n",
    "    plt.savefig(path, format=fig_extension, dpi=resolution)\n",
    "\n",
    "# Ignore useless warnings (see SciPy issue #5998)\n",
    "import warnings\n",
    "warnings.filterwarnings(action=\"ignore\", module=\"scipy\", message=\"^internal gelsd\")"
   ]
  },
  {
   "cell_type": "code",
   "execution_count": 0,
   "metadata": {
    "colab": {
     "base_uri": "https://localhost:8080/",
     "height": 54
    },
    "colab_type": "code",
    "id": "FtypxpcYhoi9",
    "outputId": "d2e042ab-a9f9-47df-df89-b7dd7fd1107a"
   },
   "outputs": [
    {
     "name": "stdout",
     "output_type": "stream",
     "text": [
      "Drive already mounted at /content/drive/; to attempt to forcibly remount, call drive.mount(\"/content/drive/\", force_remount=True).\n"
     ]
    }
   ],
   "source": [
    "import pandas as pd\n",
    "import os\n",
    "\n",
    "from google.colab import drive\n",
    "drive.mount('/content/drive/')\n",
    "\n",
    "# Locate the stats CSV file in my computer's memory\n",
    "NBA_PATH = os.path.join(\"nba-salaries-prediction-in-20172018-season\")\n",
    "\n",
    "# # Read the stats CSV file from my computer/Google Drive into a Pandas DataFrame\n",
    "def load_nba_data(nba_path = NBA_PATH):\n",
    "#     csv_path = os.path.join(nba_path, \"2017-18_NBA_salary.csv\")\n",
    "#     return pd.read_csv(csv_path)\n",
    "    return pd.read_csv('/content/drive/My Drive/Colab Notebooks/2017-18_NBA_salary.csv')"
   ]
  },
  {
   "cell_type": "markdown",
   "metadata": {
    "colab_type": "text",
    "id": "jf69fk3khojB"
   },
   "source": [
    "# Getting & Exploring the Data"
   ]
  },
  {
   "cell_type": "markdown",
   "metadata": {
    "colab_type": "text",
    "id": "eiP9guCshojC"
   },
   "source": [
    "## Visualize Dataset Values\n",
    "\n",
    "As is evidenced by the first code block in this section, I decided to preemptively remove the \"Player\" and \"NBA_Country\" features from my dataset.\n",
    "\n",
    "I removed the Player feature because I feared experiencing overfitting in my training. There's a 1:1 ratio between player name and player salary, so my model could easily calculate the salary if it knows the player's name.\n",
    "\n",
    "I removed the NBA_Country feature because regardless of where you're from, you have to live in the US over the course of a season and you get paid in US dollars, so I figured it wouldn't have any effect in either direction. "
   ]
  },
  {
   "cell_type": "code",
   "execution_count": 0,
   "metadata": {
    "colab": {
     "base_uri": "https://localhost:8080/",
     "height": 244
    },
    "colab_type": "code",
    "id": "O_LXX6DahojD",
    "outputId": "5869c089-d017-4ff5-d509-367da4fa972a"
   },
   "outputs": [
    {
     "data": {
      "text/html": [
       "<div>\n",
       "<style scoped>\n",
       "    .dataframe tbody tr th:only-of-type {\n",
       "        vertical-align: middle;\n",
       "    }\n",
       "\n",
       "    .dataframe tbody tr th {\n",
       "        vertical-align: top;\n",
       "    }\n",
       "\n",
       "    .dataframe thead th {\n",
       "        text-align: right;\n",
       "    }\n",
       "</style>\n",
       "<table border=\"1\" class=\"dataframe\">\n",
       "  <thead>\n",
       "    <tr style=\"text-align: right;\">\n",
       "      <th></th>\n",
       "      <th>Salary</th>\n",
       "      <th>NBA_DraftNumber</th>\n",
       "      <th>Age</th>\n",
       "      <th>Tm</th>\n",
       "      <th>G</th>\n",
       "      <th>MP</th>\n",
       "      <th>PER</th>\n",
       "      <th>TS%</th>\n",
       "      <th>3PAr</th>\n",
       "      <th>FTr</th>\n",
       "      <th>...</th>\n",
       "      <th>TOV%</th>\n",
       "      <th>USG%</th>\n",
       "      <th>OWS</th>\n",
       "      <th>DWS</th>\n",
       "      <th>WS</th>\n",
       "      <th>WS/48</th>\n",
       "      <th>OBPM</th>\n",
       "      <th>DBPM</th>\n",
       "      <th>BPM</th>\n",
       "      <th>VORP</th>\n",
       "    </tr>\n",
       "  </thead>\n",
       "  <tbody>\n",
       "    <tr>\n",
       "      <th>0</th>\n",
       "      <td>815615</td>\n",
       "      <td>43</td>\n",
       "      <td>22</td>\n",
       "      <td>HOU</td>\n",
       "      <td>16</td>\n",
       "      <td>87</td>\n",
       "      <td>0.6</td>\n",
       "      <td>0.303</td>\n",
       "      <td>0.593</td>\n",
       "      <td>0.370</td>\n",
       "      <td>...</td>\n",
       "      <td>18.2</td>\n",
       "      <td>19.5</td>\n",
       "      <td>-0.4</td>\n",
       "      <td>0.1</td>\n",
       "      <td>-0.2</td>\n",
       "      <td>-0.121</td>\n",
       "      <td>-10.6</td>\n",
       "      <td>0.5</td>\n",
       "      <td>-10.1</td>\n",
       "      <td>-0.2</td>\n",
       "    </tr>\n",
       "    <tr>\n",
       "      <th>1</th>\n",
       "      <td>3477600</td>\n",
       "      <td>42</td>\n",
       "      <td>33</td>\n",
       "      <td>GSW</td>\n",
       "      <td>66</td>\n",
       "      <td>937</td>\n",
       "      <td>16.8</td>\n",
       "      <td>0.608</td>\n",
       "      <td>0.004</td>\n",
       "      <td>0.337</td>\n",
       "      <td>...</td>\n",
       "      <td>19.3</td>\n",
       "      <td>17.2</td>\n",
       "      <td>1.7</td>\n",
       "      <td>1.4</td>\n",
       "      <td>3.1</td>\n",
       "      <td>0.160</td>\n",
       "      <td>-0.6</td>\n",
       "      <td>1.3</td>\n",
       "      <td>0.8</td>\n",
       "      <td>0.7</td>\n",
       "    </tr>\n",
       "    <tr>\n",
       "      <th>2</th>\n",
       "      <td>12307692</td>\n",
       "      <td>19</td>\n",
       "      <td>36</td>\n",
       "      <td>SAC</td>\n",
       "      <td>59</td>\n",
       "      <td>1508</td>\n",
       "      <td>17.3</td>\n",
       "      <td>0.529</td>\n",
       "      <td>0.193</td>\n",
       "      <td>0.140</td>\n",
       "      <td>...</td>\n",
       "      <td>12.5</td>\n",
       "      <td>27.6</td>\n",
       "      <td>0.3</td>\n",
       "      <td>1.1</td>\n",
       "      <td>1.4</td>\n",
       "      <td>0.046</td>\n",
       "      <td>-0.6</td>\n",
       "      <td>-1.3</td>\n",
       "      <td>-1.9</td>\n",
       "      <td>0.0</td>\n",
       "    </tr>\n",
       "    <tr>\n",
       "      <th>3</th>\n",
       "      <td>3202217</td>\n",
       "      <td>13</td>\n",
       "      <td>22</td>\n",
       "      <td>CHI</td>\n",
       "      <td>24</td>\n",
       "      <td>656</td>\n",
       "      <td>14.6</td>\n",
       "      <td>0.499</td>\n",
       "      <td>0.346</td>\n",
       "      <td>0.301</td>\n",
       "      <td>...</td>\n",
       "      <td>9.7</td>\n",
       "      <td>29.5</td>\n",
       "      <td>-0.1</td>\n",
       "      <td>0.5</td>\n",
       "      <td>0.4</td>\n",
       "      <td>0.027</td>\n",
       "      <td>-0.7</td>\n",
       "      <td>-2.0</td>\n",
       "      <td>-2.6</td>\n",
       "      <td>-0.1</td>\n",
       "    </tr>\n",
       "    <tr>\n",
       "      <th>4</th>\n",
       "      <td>3057240</td>\n",
       "      <td>10</td>\n",
       "      <td>20</td>\n",
       "      <td>POR</td>\n",
       "      <td>62</td>\n",
       "      <td>979</td>\n",
       "      <td>8.2</td>\n",
       "      <td>0.487</td>\n",
       "      <td>0.387</td>\n",
       "      <td>0.146</td>\n",
       "      <td>...</td>\n",
       "      <td>15.6</td>\n",
       "      <td>15.5</td>\n",
       "      <td>-0.4</td>\n",
       "      <td>1.2</td>\n",
       "      <td>0.8</td>\n",
       "      <td>0.038</td>\n",
       "      <td>-3.7</td>\n",
       "      <td>0.9</td>\n",
       "      <td>-2.9</td>\n",
       "      <td>-0.2</td>\n",
       "    </tr>\n",
       "  </tbody>\n",
       "</table>\n",
       "<p>5 rows × 26 columns</p>\n",
       "</div>"
      ],
      "text/plain": [
       "     Salary  NBA_DraftNumber  Age   Tm   G    MP   PER    TS%   3PAr    FTr  \\\n",
       "0    815615               43   22  HOU  16    87   0.6  0.303  0.593  0.370   \n",
       "1   3477600               42   33  GSW  66   937  16.8  0.608  0.004  0.337   \n",
       "2  12307692               19   36  SAC  59  1508  17.3  0.529  0.193  0.140   \n",
       "3   3202217               13   22  CHI  24   656  14.6  0.499  0.346  0.301   \n",
       "4   3057240               10   20  POR  62   979   8.2  0.487  0.387  0.146   \n",
       "\n",
       "   ...   TOV%  USG%  OWS  DWS   WS  WS/48  OBPM  DBPM   BPM  VORP  \n",
       "0  ...   18.2  19.5 -0.4  0.1 -0.2 -0.121 -10.6   0.5 -10.1  -0.2  \n",
       "1  ...   19.3  17.2  1.7  1.4  3.1  0.160  -0.6   1.3   0.8   0.7  \n",
       "2  ...   12.5  27.6  0.3  1.1  1.4  0.046  -0.6  -1.3  -1.9   0.0  \n",
       "3  ...    9.7  29.5 -0.1  0.5  0.4  0.027  -0.7  -2.0  -2.6  -0.1  \n",
       "4  ...   15.6  15.5 -0.4  1.2  0.8  0.038  -3.7   0.9  -2.9  -0.2  \n",
       "\n",
       "[5 rows x 26 columns]"
      ]
     },
     "execution_count": 3,
     "metadata": {
      "tags": []
     },
     "output_type": "execute_result"
    }
   ],
   "source": [
    "# Retrieve NBA stats data from csv downloaded into local directory\n",
    "nba_stats = load_nba_data()\n",
    "\n",
    "# Drop undesired features from original dataset\n",
    "nba_stats = nba_stats.drop([\"Player\", \"NBA_Country\"], axis = 1)\n",
    "nba_stats.head()"
   ]
  },
  {
   "cell_type": "code",
   "execution_count": 0,
   "metadata": {
    "colab": {
     "base_uri": "https://localhost:8080/",
     "height": 538
    },
    "colab_type": "code",
    "id": "1_lAgIjhhojJ",
    "outputId": "d97612eb-7b9f-4721-ef2b-95d374c9c761"
   },
   "outputs": [
    {
     "name": "stdout",
     "output_type": "stream",
     "text": [
      "<class 'pandas.core.frame.DataFrame'>\n",
      "RangeIndex: 485 entries, 0 to 484\n",
      "Data columns (total 26 columns):\n",
      "Salary             485 non-null int64\n",
      "NBA_DraftNumber    485 non-null int64\n",
      "Age                485 non-null int64\n",
      "Tm                 485 non-null object\n",
      "G                  485 non-null int64\n",
      "MP                 485 non-null int64\n",
      "PER                485 non-null float64\n",
      "TS%                483 non-null float64\n",
      "3PAr               483 non-null float64\n",
      "FTr                483 non-null float64\n",
      "ORB%               485 non-null float64\n",
      "DRB%               485 non-null float64\n",
      "TRB%               485 non-null float64\n",
      "AST%               485 non-null float64\n",
      "STL%               485 non-null float64\n",
      "BLK%               485 non-null float64\n",
      "TOV%               483 non-null float64\n",
      "USG%               485 non-null float64\n",
      "OWS                485 non-null float64\n",
      "DWS                485 non-null float64\n",
      "WS                 485 non-null float64\n",
      "WS/48              485 non-null float64\n",
      "OBPM               485 non-null float64\n",
      "DBPM               485 non-null float64\n",
      "BPM                485 non-null float64\n",
      "VORP               485 non-null float64\n",
      "dtypes: float64(20), int64(5), object(1)\n",
      "memory usage: 98.6+ KB\n"
     ]
    }
   ],
   "source": [
    "nba_stats.info()"
   ]
  },
  {
   "cell_type": "code",
   "execution_count": 0,
   "metadata": {
    "colab": {
     "base_uri": "https://localhost:8080/",
     "height": 333
    },
    "colab_type": "code",
    "id": "UOapGDtthojN",
    "outputId": "537d6103-77f4-4a0c-8501-0f937676e54e",
    "scrolled": false
   },
   "outputs": [
    {
     "data": {
      "text/html": [
       "<div>\n",
       "<style scoped>\n",
       "    .dataframe tbody tr th:only-of-type {\n",
       "        vertical-align: middle;\n",
       "    }\n",
       "\n",
       "    .dataframe tbody tr th {\n",
       "        vertical-align: top;\n",
       "    }\n",
       "\n",
       "    .dataframe thead th {\n",
       "        text-align: right;\n",
       "    }\n",
       "</style>\n",
       "<table border=\"1\" class=\"dataframe\">\n",
       "  <thead>\n",
       "    <tr style=\"text-align: right;\">\n",
       "      <th></th>\n",
       "      <th>Salary</th>\n",
       "      <th>NBA_DraftNumber</th>\n",
       "      <th>Age</th>\n",
       "      <th>G</th>\n",
       "      <th>MP</th>\n",
       "      <th>PER</th>\n",
       "      <th>TS%</th>\n",
       "      <th>3PAr</th>\n",
       "      <th>FTr</th>\n",
       "      <th>ORB%</th>\n",
       "      <th>...</th>\n",
       "      <th>TOV%</th>\n",
       "      <th>USG%</th>\n",
       "      <th>OWS</th>\n",
       "      <th>DWS</th>\n",
       "      <th>WS</th>\n",
       "      <th>WS/48</th>\n",
       "      <th>OBPM</th>\n",
       "      <th>DBPM</th>\n",
       "      <th>BPM</th>\n",
       "      <th>VORP</th>\n",
       "    </tr>\n",
       "  </thead>\n",
       "  <tbody>\n",
       "    <tr>\n",
       "      <th>count</th>\n",
       "      <td>4.850000e+02</td>\n",
       "      <td>485.000000</td>\n",
       "      <td>485.000000</td>\n",
       "      <td>485.000000</td>\n",
       "      <td>485.000000</td>\n",
       "      <td>485.000000</td>\n",
       "      <td>483.000000</td>\n",
       "      <td>483.000000</td>\n",
       "      <td>483.000000</td>\n",
       "      <td>485.000000</td>\n",
       "      <td>...</td>\n",
       "      <td>483.000000</td>\n",
       "      <td>485.000000</td>\n",
       "      <td>485.000000</td>\n",
       "      <td>485.000000</td>\n",
       "      <td>485.000000</td>\n",
       "      <td>485.000000</td>\n",
       "      <td>485.000000</td>\n",
       "      <td>485.000000</td>\n",
       "      <td>485.000000</td>\n",
       "      <td>485.000000</td>\n",
       "    </tr>\n",
       "    <tr>\n",
       "      <th>mean</th>\n",
       "      <td>6.636507e+06</td>\n",
       "      <td>29.451546</td>\n",
       "      <td>26.263918</td>\n",
       "      <td>50.167010</td>\n",
       "      <td>1154.142268</td>\n",
       "      <td>13.260825</td>\n",
       "      <td>0.535387</td>\n",
       "      <td>0.337383</td>\n",
       "      <td>0.263404</td>\n",
       "      <td>4.873814</td>\n",
       "      <td>...</td>\n",
       "      <td>13.140373</td>\n",
       "      <td>18.897320</td>\n",
       "      <td>1.275464</td>\n",
       "      <td>1.176495</td>\n",
       "      <td>2.455258</td>\n",
       "      <td>0.079959</td>\n",
       "      <td>-1.270722</td>\n",
       "      <td>-0.489485</td>\n",
       "      <td>-1.760206</td>\n",
       "      <td>0.598763</td>\n",
       "    </tr>\n",
       "    <tr>\n",
       "      <th>std</th>\n",
       "      <td>7.392602e+06</td>\n",
       "      <td>21.125760</td>\n",
       "      <td>4.272297</td>\n",
       "      <td>24.874872</td>\n",
       "      <td>811.357419</td>\n",
       "      <td>8.769280</td>\n",
       "      <td>0.112352</td>\n",
       "      <td>0.226894</td>\n",
       "      <td>0.294578</td>\n",
       "      <td>4.582810</td>\n",
       "      <td>...</td>\n",
       "      <td>6.115290</td>\n",
       "      <td>5.940536</td>\n",
       "      <td>1.881444</td>\n",
       "      <td>1.034580</td>\n",
       "      <td>2.673670</td>\n",
       "      <td>0.162992</td>\n",
       "      <td>5.026275</td>\n",
       "      <td>2.389343</td>\n",
       "      <td>5.661447</td>\n",
       "      <td>1.245653</td>\n",
       "    </tr>\n",
       "    <tr>\n",
       "      <th>min</th>\n",
       "      <td>4.608000e+04</td>\n",
       "      <td>1.000000</td>\n",
       "      <td>19.000000</td>\n",
       "      <td>1.000000</td>\n",
       "      <td>1.000000</td>\n",
       "      <td>-41.100000</td>\n",
       "      <td>0.000000</td>\n",
       "      <td>0.000000</td>\n",
       "      <td>0.000000</td>\n",
       "      <td>0.000000</td>\n",
       "      <td>...</td>\n",
       "      <td>0.000000</td>\n",
       "      <td>0.000000</td>\n",
       "      <td>-2.300000</td>\n",
       "      <td>0.000000</td>\n",
       "      <td>-1.200000</td>\n",
       "      <td>-1.063000</td>\n",
       "      <td>-36.500000</td>\n",
       "      <td>-14.300000</td>\n",
       "      <td>-49.200000</td>\n",
       "      <td>-1.300000</td>\n",
       "    </tr>\n",
       "    <tr>\n",
       "      <th>25%</th>\n",
       "      <td>1.471382e+06</td>\n",
       "      <td>11.000000</td>\n",
       "      <td>23.000000</td>\n",
       "      <td>29.000000</td>\n",
       "      <td>381.000000</td>\n",
       "      <td>9.800000</td>\n",
       "      <td>0.505500</td>\n",
       "      <td>0.167000</td>\n",
       "      <td>0.155000</td>\n",
       "      <td>1.800000</td>\n",
       "      <td>...</td>\n",
       "      <td>9.900000</td>\n",
       "      <td>15.000000</td>\n",
       "      <td>0.000000</td>\n",
       "      <td>0.300000</td>\n",
       "      <td>0.300000</td>\n",
       "      <td>0.040000</td>\n",
       "      <td>-2.700000</td>\n",
       "      <td>-1.700000</td>\n",
       "      <td>-3.600000</td>\n",
       "      <td>-0.100000</td>\n",
       "    </tr>\n",
       "    <tr>\n",
       "      <th>50%</th>\n",
       "      <td>3.202217e+06</td>\n",
       "      <td>25.000000</td>\n",
       "      <td>26.000000</td>\n",
       "      <td>59.000000</td>\n",
       "      <td>1134.000000</td>\n",
       "      <td>13.200000</td>\n",
       "      <td>0.545000</td>\n",
       "      <td>0.346000</td>\n",
       "      <td>0.231000</td>\n",
       "      <td>3.200000</td>\n",
       "      <td>...</td>\n",
       "      <td>12.500000</td>\n",
       "      <td>17.900000</td>\n",
       "      <td>0.800000</td>\n",
       "      <td>1.000000</td>\n",
       "      <td>1.800000</td>\n",
       "      <td>0.083000</td>\n",
       "      <td>-1.100000</td>\n",
       "      <td>-0.400000</td>\n",
       "      <td>-1.300000</td>\n",
       "      <td>0.100000</td>\n",
       "    </tr>\n",
       "    <tr>\n",
       "      <th>75%</th>\n",
       "      <td>1.000000e+07</td>\n",
       "      <td>47.000000</td>\n",
       "      <td>29.000000</td>\n",
       "      <td>71.000000</td>\n",
       "      <td>1819.000000</td>\n",
       "      <td>16.500000</td>\n",
       "      <td>0.582500</td>\n",
       "      <td>0.481000</td>\n",
       "      <td>0.319500</td>\n",
       "      <td>7.000000</td>\n",
       "      <td>...</td>\n",
       "      <td>15.750000</td>\n",
       "      <td>22.200000</td>\n",
       "      <td>2.000000</td>\n",
       "      <td>1.800000</td>\n",
       "      <td>3.600000</td>\n",
       "      <td>0.123000</td>\n",
       "      <td>0.400000</td>\n",
       "      <td>1.000000</td>\n",
       "      <td>0.500000</td>\n",
       "      <td>0.900000</td>\n",
       "    </tr>\n",
       "    <tr>\n",
       "      <th>max</th>\n",
       "      <td>3.468255e+07</td>\n",
       "      <td>62.000000</td>\n",
       "      <td>41.000000</td>\n",
       "      <td>79.000000</td>\n",
       "      <td>2898.000000</td>\n",
       "      <td>134.100000</td>\n",
       "      <td>1.500000</td>\n",
       "      <td>1.000000</td>\n",
       "      <td>5.333000</td>\n",
       "      <td>35.900000</td>\n",
       "      <td>...</td>\n",
       "      <td>66.700000</td>\n",
       "      <td>45.100000</td>\n",
       "      <td>11.400000</td>\n",
       "      <td>5.600000</td>\n",
       "      <td>15.000000</td>\n",
       "      <td>2.713000</td>\n",
       "      <td>68.700000</td>\n",
       "      <td>6.800000</td>\n",
       "      <td>54.400000</td>\n",
       "      <td>8.600000</td>\n",
       "    </tr>\n",
       "  </tbody>\n",
       "</table>\n",
       "<p>8 rows × 25 columns</p>\n",
       "</div>"
      ],
      "text/plain": [
       "             Salary  NBA_DraftNumber         Age           G           MP  \\\n",
       "count  4.850000e+02       485.000000  485.000000  485.000000   485.000000   \n",
       "mean   6.636507e+06        29.451546   26.263918   50.167010  1154.142268   \n",
       "std    7.392602e+06        21.125760    4.272297   24.874872   811.357419   \n",
       "min    4.608000e+04         1.000000   19.000000    1.000000     1.000000   \n",
       "25%    1.471382e+06        11.000000   23.000000   29.000000   381.000000   \n",
       "50%    3.202217e+06        25.000000   26.000000   59.000000  1134.000000   \n",
       "75%    1.000000e+07        47.000000   29.000000   71.000000  1819.000000   \n",
       "max    3.468255e+07        62.000000   41.000000   79.000000  2898.000000   \n",
       "\n",
       "              PER         TS%        3PAr         FTr        ORB%     ...      \\\n",
       "count  485.000000  483.000000  483.000000  483.000000  485.000000     ...       \n",
       "mean    13.260825    0.535387    0.337383    0.263404    4.873814     ...       \n",
       "std      8.769280    0.112352    0.226894    0.294578    4.582810     ...       \n",
       "min    -41.100000    0.000000    0.000000    0.000000    0.000000     ...       \n",
       "25%      9.800000    0.505500    0.167000    0.155000    1.800000     ...       \n",
       "50%     13.200000    0.545000    0.346000    0.231000    3.200000     ...       \n",
       "75%     16.500000    0.582500    0.481000    0.319500    7.000000     ...       \n",
       "max    134.100000    1.500000    1.000000    5.333000   35.900000     ...       \n",
       "\n",
       "             TOV%        USG%         OWS         DWS          WS       WS/48  \\\n",
       "count  483.000000  485.000000  485.000000  485.000000  485.000000  485.000000   \n",
       "mean    13.140373   18.897320    1.275464    1.176495    2.455258    0.079959   \n",
       "std      6.115290    5.940536    1.881444    1.034580    2.673670    0.162992   \n",
       "min      0.000000    0.000000   -2.300000    0.000000   -1.200000   -1.063000   \n",
       "25%      9.900000   15.000000    0.000000    0.300000    0.300000    0.040000   \n",
       "50%     12.500000   17.900000    0.800000    1.000000    1.800000    0.083000   \n",
       "75%     15.750000   22.200000    2.000000    1.800000    3.600000    0.123000   \n",
       "max     66.700000   45.100000   11.400000    5.600000   15.000000    2.713000   \n",
       "\n",
       "             OBPM        DBPM         BPM        VORP  \n",
       "count  485.000000  485.000000  485.000000  485.000000  \n",
       "mean    -1.270722   -0.489485   -1.760206    0.598763  \n",
       "std      5.026275    2.389343    5.661447    1.245653  \n",
       "min    -36.500000  -14.300000  -49.200000   -1.300000  \n",
       "25%     -2.700000   -1.700000   -3.600000   -0.100000  \n",
       "50%     -1.100000   -0.400000   -1.300000    0.100000  \n",
       "75%      0.400000    1.000000    0.500000    0.900000  \n",
       "max     68.700000    6.800000   54.400000    8.600000  \n",
       "\n",
       "[8 rows x 25 columns]"
      ]
     },
     "execution_count": 5,
     "metadata": {
      "tags": []
     },
     "output_type": "execute_result"
    }
   ],
   "source": [
    "nba_stats.describe()"
   ]
  },
  {
   "cell_type": "code",
   "execution_count": 0,
   "metadata": {
    "colab": {
     "base_uri": "https://localhost:8080/",
     "height": 554
    },
    "colab_type": "code",
    "id": "ybWWQZIwhojR",
    "outputId": "b58c1c95-dc19-47a7-cec6-df87feb04eee",
    "scrolled": true
   },
   "outputs": [
    {
     "data": {
      "text/plain": [
       "TOT    55\n",
       "DAL    18\n",
       "MEM    17\n",
       "UTA    17\n",
       "PHI    16\n",
       "ATL    16\n",
       "IND    16\n",
       "GSW    16\n",
       "LAL    15\n",
       "MIL    15\n",
       "ORL    15\n",
       "BOS    15\n",
       "SAS    15\n",
       "MIA    15\n",
       "CHI    14\n",
       "NYK    14\n",
       "DET    14\n",
       "NOP    14\n",
       "POR    14\n",
       "CHO    14\n",
       "PHO    14\n",
       "OKC    14\n",
       "DEN    14\n",
       "WAS    13\n",
       "TOR    13\n",
       "MIN    13\n",
       "HOU    13\n",
       "LAC    12\n",
       "SAC    12\n",
       "BRK    12\n",
       "CLE    10\n",
       "Name: Tm, dtype: int64"
      ]
     },
     "execution_count": 6,
     "metadata": {
      "tags": []
     },
     "output_type": "execute_result"
    }
   ],
   "source": [
    "nba_stats['Tm'].value_counts()"
   ]
  },
  {
   "cell_type": "code",
   "execution_count": 0,
   "metadata": {
    "colab": {
     "base_uri": "https://localhost:8080/",
     "height": 900
    },
    "colab_type": "code",
    "id": "0LYTt0pohojU",
    "outputId": "ca7fc9a7-4caa-425e-a4cd-a8a6ccd83e7e"
   },
   "outputs": [
    {
     "data": {
      "image/png": "[encoded data removed]",
      "text/plain": [
       "<matplotlib.figure.Figure at 0x7f7766f0eda0>"
      ]
     },
     "metadata": {
      "tags": []
     },
     "output_type": "display_data"
    }
   ],
   "source": [
    "import matplotlib.pyplot as plt\n",
    "%matplotlib inline\n",
    "\n",
    "nba_stats.hist(bins=10, figsize = (20, 15))\n",
    "plt.show()"
   ]
  },
  {
   "cell_type": "markdown",
   "metadata": {
    "colab_type": "text",
    "id": "i5dTpKc_znZl"
   },
   "source": [
    "## Identify Potentially Important Features"
   ]
  },
  {
   "cell_type": "code",
   "execution_count": 0,
   "metadata": {
    "colab": {
     "base_uri": "https://localhost:8080/",
     "height": 474
    },
    "colab_type": "code",
    "id": "u7zP06CVhojY",
    "outputId": "c5bd7171-e029-4b39-e486-40328a57db70",
    "scrolled": false
   },
   "outputs": [
    {
     "data": {
      "text/plain": [
       "Salary             1.000000\n",
       "WS                 0.592499\n",
       "VORP               0.573840\n",
       "OWS                0.562933\n",
       "MP                 0.506961\n",
       "DWS                0.505500\n",
       "Age                0.336454\n",
       "BPM                0.310478\n",
       "USG%               0.298756\n",
       "G                  0.297700\n",
       "PER                0.269823\n",
       "AST%               0.266459\n",
       "OBPM               0.265614\n",
       "DRB%               0.195899\n",
       "DBPM               0.177818\n",
       "TS%                0.174759\n",
       "WS/48              0.162398\n",
       "TRB%               0.140563\n",
       "BLK%               0.045225\n",
       "STL%               0.035517\n",
       "FTr                0.023494\n",
       "ORB%               0.004221\n",
       "TOV%              -0.043205\n",
       "3PAr              -0.073502\n",
       "NBA_DraftNumber   -0.381686\n",
       "Name: Salary, dtype: float64"
      ]
     },
     "execution_count": 8,
     "metadata": {
      "tags": []
     },
     "output_type": "execute_result"
    }
   ],
   "source": [
    "corr_matrix = nba_stats.corr()\n",
    "corr_matrix[\"Salary\"].sort_values(ascending=False)"
   ]
  },
  {
   "cell_type": "markdown",
   "metadata": {
    "colab_type": "text",
    "id": "Tr1MGPgDN_HZ"
   },
   "source": [
    "## Comments\n",
    "\n",
    "This dataset is structured such that each tuple in the dataset is identified by a player name, followed by its corresponding statistcal features. \n",
    "\n",
    "All of the features are numerical with the exception of the \"Tm\" (team) feature. All  31 of its possible values will have to be encoded with a OneHotEncoder when it's time to clean the data.\n",
    "\n",
    "Quite a few of the numerical features have value ranges that extend into the negative territory. Though I'm not exactly sure what effect that may have on my models' performances, I'm intrigued to see the result.\n",
    "\n",
    "Lastly is the correlation matrix in relation to player salary displayed above. Naturally, WS (win shares) and VORP (value over replacement player)--two of the features most directly correlated to a player's contribution to winning games--are leaders in the impact made on salary decisions.\n",
    "\n"
   ]
  },
  {
   "cell_type": "markdown",
   "metadata": {
    "colab_type": "text",
    "id": "pnAfNfNehojc"
   },
   "source": [
    "# Preparing the Data"
   ]
  },
  {
   "cell_type": "markdown",
   "metadata": {
    "colab_type": "text",
    "id": "BGEZrFVnyTGb"
   },
   "source": [
    "## Check for Missing Feature Values"
   ]
  },
  {
   "cell_type": "code",
   "execution_count": 0,
   "metadata": {
    "colab": {
     "base_uri": "https://localhost:8080/",
     "height": 222
    },
    "colab_type": "code",
    "id": "-Dtj7_OZhojd",
    "outputId": "9edef73e-fa2d-4733-f4ef-e25a48c74e48"
   },
   "outputs": [
    {
     "data": {
      "text/html": [
       "<div>\n",
       "<style scoped>\n",
       "    .dataframe tbody tr th:only-of-type {\n",
       "        vertical-align: middle;\n",
       "    }\n",
       "\n",
       "    .dataframe tbody tr th {\n",
       "        vertical-align: top;\n",
       "    }\n",
       "\n",
       "    .dataframe thead th {\n",
       "        text-align: right;\n",
       "    }\n",
       "</style>\n",
       "<table border=\"1\" class=\"dataframe\">\n",
       "  <thead>\n",
       "    <tr style=\"text-align: right;\">\n",
       "      <th></th>\n",
       "      <th>Salary</th>\n",
       "      <th>NBA_DraftNumber</th>\n",
       "      <th>Age</th>\n",
       "      <th>Tm</th>\n",
       "      <th>G</th>\n",
       "      <th>MP</th>\n",
       "      <th>PER</th>\n",
       "      <th>TS%</th>\n",
       "      <th>3PAr</th>\n",
       "      <th>FTr</th>\n",
       "      <th>...</th>\n",
       "      <th>TOV%</th>\n",
       "      <th>USG%</th>\n",
       "      <th>OWS</th>\n",
       "      <th>DWS</th>\n",
       "      <th>WS</th>\n",
       "      <th>WS/48</th>\n",
       "      <th>OBPM</th>\n",
       "      <th>DBPM</th>\n",
       "      <th>BPM</th>\n",
       "      <th>VORP</th>\n",
       "    </tr>\n",
       "  </thead>\n",
       "  <tbody>\n",
       "    <tr>\n",
       "      <th>29</th>\n",
       "      <td>1579440</td>\n",
       "      <td>24</td>\n",
       "      <td>21</td>\n",
       "      <td>DEN</td>\n",
       "      <td>1</td>\n",
       "      <td>2</td>\n",
       "      <td>0.0</td>\n",
       "      <td>NaN</td>\n",
       "      <td>NaN</td>\n",
       "      <td>NaN</td>\n",
       "      <td>...</td>\n",
       "      <td>NaN</td>\n",
       "      <td>0.0</td>\n",
       "      <td>0.0</td>\n",
       "      <td>0.0</td>\n",
       "      <td>0.0</td>\n",
       "      <td>-0.016</td>\n",
       "      <td>-5.6</td>\n",
       "      <td>-0.9</td>\n",
       "      <td>-6.5</td>\n",
       "      <td>0.0</td>\n",
       "    </tr>\n",
       "    <tr>\n",
       "      <th>37</th>\n",
       "      <td>46080</td>\n",
       "      <td>62</td>\n",
       "      <td>27</td>\n",
       "      <td>IND</td>\n",
       "      <td>1</td>\n",
       "      <td>1</td>\n",
       "      <td>0.0</td>\n",
       "      <td>NaN</td>\n",
       "      <td>NaN</td>\n",
       "      <td>NaN</td>\n",
       "      <td>...</td>\n",
       "      <td>NaN</td>\n",
       "      <td>0.0</td>\n",
       "      <td>0.0</td>\n",
       "      <td>0.0</td>\n",
       "      <td>0.0</td>\n",
       "      <td>-0.001</td>\n",
       "      <td>-5.7</td>\n",
       "      <td>-0.1</td>\n",
       "      <td>-5.9</td>\n",
       "      <td>0.0</td>\n",
       "    </tr>\n",
       "  </tbody>\n",
       "</table>\n",
       "<p>2 rows × 26 columns</p>\n",
       "</div>"
      ],
      "text/plain": [
       "     Salary  NBA_DraftNumber  Age   Tm  G  MP  PER  TS%  3PAr  FTr  ...   \\\n",
       "29  1579440               24   21  DEN  1   2  0.0  NaN   NaN  NaN  ...    \n",
       "37    46080               62   27  IND  1   1  0.0  NaN   NaN  NaN  ...    \n",
       "\n",
       "    TOV%  USG%  OWS  DWS   WS  WS/48  OBPM  DBPM  BPM  VORP  \n",
       "29   NaN   0.0  0.0  0.0  0.0 -0.016  -5.6  -0.9 -6.5   0.0  \n",
       "37   NaN   0.0  0.0  0.0  0.0 -0.001  -5.7  -0.1 -5.9   0.0  \n",
       "\n",
       "[2 rows x 26 columns]"
      ]
     },
     "execution_count": 9,
     "metadata": {
      "tags": []
     },
     "output_type": "execute_result"
    }
   ],
   "source": [
    "# Locate any tuples with missing feature values\n",
    "missing_values = nba_stats[nba_stats.isnull().any(axis = 1)]\n",
    "missing_values.head()"
   ]
  },
  {
   "cell_type": "code",
   "execution_count": 0,
   "metadata": {
    "colab": {},
    "colab_type": "code",
    "id": "HUD5LysNhojh"
   },
   "outputs": [],
   "source": [
    "# Remove the tuples with missing feature values from the dataset\n",
    "nba_stats = nba_stats.dropna(subset = ['TS%'])"
   ]
  },
  {
   "cell_type": "markdown",
   "metadata": {
    "colab_type": "text",
    "id": "7KyqF5oHQuC1"
   },
   "source": [
    "I decided to remove the two player tuples in my dataset that had missing values because they're outliers. One of the players played only 1 minute the whole season and the other only played 2 minutes, so it can automatically be assumed they're making the veteran minimum--if they're still even in the NBA anymore. Their statistics, or lack thereof, wouldn't have contributed anything to the training."
   ]
  },
  {
   "cell_type": "markdown",
   "metadata": {
    "colab_type": "text",
    "id": "C23615dEya03"
   },
   "source": [
    "## Prepare Train-Test Dataset Split"
   ]
  },
  {
   "cell_type": "code",
   "execution_count": 0,
   "metadata": {
    "colab": {},
    "colab_type": "code",
    "id": "cj9hFFwIhojl"
   },
   "outputs": [],
   "source": [
    "from sklearn.model_selection import train_test_split\n",
    "\n",
    "# Perform a random split on the entire dataset; 80% training, 20% testing\n",
    "train_set, test_set = train_test_split(nba_stats, test_size = 0.2, random_state = 42)"
   ]
  },
  {
   "cell_type": "code",
   "execution_count": 0,
   "metadata": {
    "colab": {
     "base_uri": "https://localhost:8080/",
     "height": 54
    },
    "colab_type": "code",
    "id": "ao7dzf9Phojn",
    "outputId": "81bbb127-3f6d-4133-98dd-13bb3dabd348"
   },
   "outputs": [
    {
     "data": {
      "text/plain": [
       "(386, 26)"
      ]
     },
     "execution_count": 12,
     "metadata": {
      "tags": []
     },
     "output_type": "execute_result"
    }
   ],
   "source": [
    "train_set.shape"
   ]
  },
  {
   "cell_type": "code",
   "execution_count": 0,
   "metadata": {
    "colab": {
     "base_uri": "https://localhost:8080/",
     "height": 54
    },
    "colab_type": "code",
    "id": "kmIu9WkLhojs",
    "outputId": "ebe48743-1b5b-49af-d6fe-7be6393916fd"
   },
   "outputs": [
    {
     "data": {
      "text/plain": [
       "(97, 26)"
      ]
     },
     "execution_count": 13,
     "metadata": {
      "tags": []
     },
     "output_type": "execute_result"
    }
   ],
   "source": [
    "test_set.shape"
   ]
  },
  {
   "cell_type": "code",
   "execution_count": 0,
   "metadata": {
    "colab": {},
    "colab_type": "code",
    "id": "CWCf3-gohojx"
   },
   "outputs": [],
   "source": [
    "# Remove the output variable (salary) from the training set\n",
    "# and store it in a separate variable\n",
    "nba_stats = train_set.drop('Salary', axis = 1)\n",
    "nba_salary = train_set['Salary'].copy()"
   ]
  },
  {
   "cell_type": "markdown",
   "metadata": {
    "colab_type": "text",
    "id": "uCoEPSqjyxLc"
   },
   "source": [
    "## Separate Feature Types"
   ]
  },
  {
   "cell_type": "code",
   "execution_count": 0,
   "metadata": {
    "colab": {
     "base_uri": "https://localhost:8080/",
     "height": 311
    },
    "colab_type": "code",
    "id": "fwmzbwI8hoj5",
    "outputId": "9c26582e-c535-4692-d4cf-83bf0eb50055"
   },
   "outputs": [
    {
     "data": {
      "text/html": [
       "<div>\n",
       "<style scoped>\n",
       "    .dataframe tbody tr th:only-of-type {\n",
       "        vertical-align: middle;\n",
       "    }\n",
       "\n",
       "    .dataframe tbody tr th {\n",
       "        vertical-align: top;\n",
       "    }\n",
       "\n",
       "    .dataframe thead th {\n",
       "        text-align: right;\n",
       "    }\n",
       "</style>\n",
       "<table border=\"1\" class=\"dataframe\">\n",
       "  <thead>\n",
       "    <tr style=\"text-align: right;\">\n",
       "      <th></th>\n",
       "      <th>NBA_DraftNumber</th>\n",
       "      <th>Age</th>\n",
       "      <th>G</th>\n",
       "      <th>MP</th>\n",
       "      <th>PER</th>\n",
       "      <th>TS%</th>\n",
       "      <th>3PAr</th>\n",
       "      <th>FTr</th>\n",
       "      <th>ORB%</th>\n",
       "      <th>DRB%</th>\n",
       "      <th>...</th>\n",
       "      <th>TOV%</th>\n",
       "      <th>USG%</th>\n",
       "      <th>OWS</th>\n",
       "      <th>DWS</th>\n",
       "      <th>WS</th>\n",
       "      <th>WS/48</th>\n",
       "      <th>OBPM</th>\n",
       "      <th>DBPM</th>\n",
       "      <th>BPM</th>\n",
       "      <th>VORP</th>\n",
       "    </tr>\n",
       "  </thead>\n",
       "  <tbody>\n",
       "    <tr>\n",
       "      <th>413</th>\n",
       "      <td>48</td>\n",
       "      <td>22</td>\n",
       "      <td>29</td>\n",
       "      <td>159</td>\n",
       "      <td>16.6</td>\n",
       "      <td>0.575</td>\n",
       "      <td>0.000</td>\n",
       "      <td>0.513</td>\n",
       "      <td>10.8</td>\n",
       "      <td>13.0</td>\n",
       "      <td>...</td>\n",
       "      <td>5.9</td>\n",
       "      <td>13.7</td>\n",
       "      <td>0.4</td>\n",
       "      <td>0.2</td>\n",
       "      <td>0.6</td>\n",
       "      <td>0.180</td>\n",
       "      <td>-0.9</td>\n",
       "      <td>1.3</td>\n",
       "      <td>0.5</td>\n",
       "      <td>0.1</td>\n",
       "    </tr>\n",
       "    <tr>\n",
       "      <th>25</th>\n",
       "      <td>2</td>\n",
       "      <td>35</td>\n",
       "      <td>46</td>\n",
       "      <td>1151</td>\n",
       "      <td>14.3</td>\n",
       "      <td>0.657</td>\n",
       "      <td>0.000</td>\n",
       "      <td>0.503</td>\n",
       "      <td>12.2</td>\n",
       "      <td>26.9</td>\n",
       "      <td>...</td>\n",
       "      <td>20.5</td>\n",
       "      <td>10.6</td>\n",
       "      <td>1.9</td>\n",
       "      <td>0.8</td>\n",
       "      <td>2.6</td>\n",
       "      <td>0.110</td>\n",
       "      <td>-1.4</td>\n",
       "      <td>1.0</td>\n",
       "      <td>-0.4</td>\n",
       "      <td>0.5</td>\n",
       "    </tr>\n",
       "    <tr>\n",
       "      <th>222</th>\n",
       "      <td>15</td>\n",
       "      <td>22</td>\n",
       "      <td>77</td>\n",
       "      <td>2121</td>\n",
       "      <td>12.2</td>\n",
       "      <td>0.539</td>\n",
       "      <td>0.465</td>\n",
       "      <td>0.299</td>\n",
       "      <td>3.1</td>\n",
       "      <td>15.5</td>\n",
       "      <td>...</td>\n",
       "      <td>8.8</td>\n",
       "      <td>19.4</td>\n",
       "      <td>1.6</td>\n",
       "      <td>2.2</td>\n",
       "      <td>3.7</td>\n",
       "      <td>0.085</td>\n",
       "      <td>-0.6</td>\n",
       "      <td>-0.5</td>\n",
       "      <td>-1.1</td>\n",
       "      <td>0.5</td>\n",
       "    </tr>\n",
       "    <tr>\n",
       "      <th>397</th>\n",
       "      <td>62</td>\n",
       "      <td>25</td>\n",
       "      <td>66</td>\n",
       "      <td>1529</td>\n",
       "      <td>12.8</td>\n",
       "      <td>0.561</td>\n",
       "      <td>0.121</td>\n",
       "      <td>0.532</td>\n",
       "      <td>5.4</td>\n",
       "      <td>16.2</td>\n",
       "      <td>...</td>\n",
       "      <td>13.1</td>\n",
       "      <td>15.0</td>\n",
       "      <td>1.4</td>\n",
       "      <td>1.4</td>\n",
       "      <td>2.8</td>\n",
       "      <td>0.087</td>\n",
       "      <td>-2.2</td>\n",
       "      <td>1.2</td>\n",
       "      <td>-1.0</td>\n",
       "      <td>0.4</td>\n",
       "    </tr>\n",
       "    <tr>\n",
       "      <th>233</th>\n",
       "      <td>62</td>\n",
       "      <td>28</td>\n",
       "      <td>69</td>\n",
       "      <td>2180</td>\n",
       "      <td>10.9</td>\n",
       "      <td>0.518</td>\n",
       "      <td>0.574</td>\n",
       "      <td>0.211</td>\n",
       "      <td>1.5</td>\n",
       "      <td>12.6</td>\n",
       "      <td>...</td>\n",
       "      <td>9.8</td>\n",
       "      <td>18.0</td>\n",
       "      <td>0.4</td>\n",
       "      <td>1.6</td>\n",
       "      <td>1.9</td>\n",
       "      <td>0.043</td>\n",
       "      <td>-0.9</td>\n",
       "      <td>-0.2</td>\n",
       "      <td>-1.1</td>\n",
       "      <td>0.5</td>\n",
       "    </tr>\n",
       "  </tbody>\n",
       "</table>\n",
       "<p>5 rows × 24 columns</p>\n",
       "</div>"
      ],
      "text/plain": [
       "     NBA_DraftNumber  Age   G    MP   PER    TS%   3PAr    FTr  ORB%  DRB%  \\\n",
       "413               48   22  29   159  16.6  0.575  0.000  0.513  10.8  13.0   \n",
       "25                 2   35  46  1151  14.3  0.657  0.000  0.503  12.2  26.9   \n",
       "222               15   22  77  2121  12.2  0.539  0.465  0.299   3.1  15.5   \n",
       "397               62   25  66  1529  12.8  0.561  0.121  0.532   5.4  16.2   \n",
       "233               62   28  69  2180  10.9  0.518  0.574  0.211   1.5  12.6   \n",
       "\n",
       "     ...   TOV%  USG%  OWS  DWS   WS  WS/48  OBPM  DBPM  BPM  VORP  \n",
       "413  ...    5.9  13.7  0.4  0.2  0.6  0.180  -0.9   1.3  0.5   0.1  \n",
       "25   ...   20.5  10.6  1.9  0.8  2.6  0.110  -1.4   1.0 -0.4   0.5  \n",
       "222  ...    8.8  19.4  1.6  2.2  3.7  0.085  -0.6  -0.5 -1.1   0.5  \n",
       "397  ...   13.1  15.0  1.4  1.4  2.8  0.087  -2.2   1.2 -1.0   0.4  \n",
       "233  ...    9.8  18.0  0.4  1.6  1.9  0.043  -0.9  -0.2 -1.1   0.5  \n",
       "\n",
       "[5 rows x 24 columns]"
      ]
     },
     "execution_count": 15,
     "metadata": {
      "tags": []
     },
     "output_type": "execute_result"
    }
   ],
   "source": [
    "# Extract and store all numerical features into a variable\n",
    "nba_stats_num = nba_stats.drop(['Tm'], axis = 1)\n",
    "nba_stats_num.head()"
   ]
  },
  {
   "cell_type": "code",
   "execution_count": 0,
   "metadata": {
    "colab": {
     "base_uri": "https://localhost:8080/",
     "height": 215
    },
    "colab_type": "code",
    "id": "7lteImRJhoj8",
    "outputId": "89ec96a7-dd22-40fb-da2b-329ea5e844ed"
   },
   "outputs": [
    {
     "data": {
      "text/html": [
       "<div>\n",
       "<style scoped>\n",
       "    .dataframe tbody tr th:only-of-type {\n",
       "        vertical-align: middle;\n",
       "    }\n",
       "\n",
       "    .dataframe tbody tr th {\n",
       "        vertical-align: top;\n",
       "    }\n",
       "\n",
       "    .dataframe thead th {\n",
       "        text-align: right;\n",
       "    }\n",
       "</style>\n",
       "<table border=\"1\" class=\"dataframe\">\n",
       "  <thead>\n",
       "    <tr style=\"text-align: right;\">\n",
       "      <th></th>\n",
       "      <th>Tm</th>\n",
       "    </tr>\n",
       "  </thead>\n",
       "  <tbody>\n",
       "    <tr>\n",
       "      <th>413</th>\n",
       "      <td>OKC</td>\n",
       "    </tr>\n",
       "    <tr>\n",
       "      <th>25</th>\n",
       "      <td>PHO</td>\n",
       "    </tr>\n",
       "    <tr>\n",
       "      <th>222</th>\n",
       "      <td>WAS</td>\n",
       "    </tr>\n",
       "    <tr>\n",
       "      <th>397</th>\n",
       "      <td>CHI</td>\n",
       "    </tr>\n",
       "    <tr>\n",
       "      <th>233</th>\n",
       "      <td>CHI</td>\n",
       "    </tr>\n",
       "  </tbody>\n",
       "</table>\n",
       "</div>"
      ],
      "text/plain": [
       "      Tm\n",
       "413  OKC\n",
       "25   PHO\n",
       "222  WAS\n",
       "397  CHI\n",
       "233  CHI"
      ]
     },
     "execution_count": 16,
     "metadata": {
      "tags": []
     },
     "output_type": "execute_result"
    }
   ],
   "source": [
    "# Extract and store all categorical features into a variable\n",
    "nba_stats_cat = nba_stats[['Tm']]\n",
    "nba_stats_cat.head()"
   ]
  },
  {
   "cell_type": "markdown",
   "metadata": {
    "colab_type": "text",
    "id": "FITxHlR6xtbY"
   },
   "source": [
    "## Future Encoders File\n",
    "I was having trouble importing \"future_encoders.py\" into my notebook for encoding purposes, so I copied and pasted the necessary elements of the file here"
   ]
  },
  {
   "cell_type": "code",
   "execution_count": 0,
   "metadata": {
    "colab": {},
    "colab_type": "code",
    "id": "cjIPzNFPo4MQ"
   },
   "outputs": [],
   "source": [
    "from __future__ import division\n",
    "\n",
    "import numbers\n",
    "import warnings\n",
    "\n",
    "import numpy as np\n",
    "from scipy import sparse\n",
    "\n",
    "from sklearn.base import BaseEstimator, TransformerMixin\n",
    "from sklearn.externals import six\n",
    "from sklearn.utils import check_array\n",
    "from sklearn.utils.validation import check_is_fitted, FLOAT_DTYPES\n",
    "from sklearn.preprocessing.label import LabelEncoder\n",
    "\n",
    "\n",
    "BOUNDS_THRESHOLD = 1e-7\n",
    "\n",
    "\n",
    "zip = six.moves.zip\n",
    "map = six.moves.map\n",
    "range = six.moves.range\n",
    "\n",
    "__all__ = [\n",
    "    'OneHotEncoder',\n",
    "]\n",
    "\n",
    "\n",
    "def _argmax(arr_or_spmatrix, axis=None):\n",
    "    return arr_or_spmatrix.argmax(axis=axis)\n",
    "\n",
    "\n",
    "def _handle_zeros_in_scale(scale, copy=True):\n",
    "    ''' Makes sure that whenever scale is zero, we handle it correctly.\n",
    "\n",
    "    This happens in most scalers when we have constant features.'''\n",
    "\n",
    "    # if we are fitting on 1D arrays, scale might be a scalar\n",
    "    if np.isscalar(scale):\n",
    "        if scale == .0:\n",
    "            scale = 1.\n",
    "        return scale\n",
    "    elif isinstance(scale, np.ndarray):\n",
    "        if copy:\n",
    "            # New array to avoid side-effects\n",
    "            scale = scale.copy()\n",
    "        scale[scale == 0.0] = 1.0\n",
    "        return scale\n",
    "\n",
    "\n",
    "def _transform_selected(X, transform, selected=\"all\", copy=True):\n",
    "    \"\"\"Apply a transform function to portion of selected features\n",
    "\n",
    "    Parameters\n",
    "    ----------\n",
    "    X : {array-like, sparse matrix}, shape [n_samples, n_features]\n",
    "        Dense array or sparse matrix.\n",
    "\n",
    "    transform : callable\n",
    "        A callable transform(X) -> X_transformed\n",
    "\n",
    "    copy : boolean, optional\n",
    "        Copy X even if it could be avoided.\n",
    "\n",
    "    selected: \"all\" or array of indices or mask\n",
    "        Specify which features to apply the transform to.\n",
    "\n",
    "    Returns\n",
    "    -------\n",
    "    X : array or sparse matrix, shape=(n_samples, n_features_new)\n",
    "    \"\"\"\n",
    "    X = check_array(X, accept_sparse='csc', copy=copy, dtype=FLOAT_DTYPES)\n",
    "\n",
    "    if isinstance(selected, six.string_types) and selected == \"all\":\n",
    "        return transform(X)\n",
    "\n",
    "    if len(selected) == 0:\n",
    "        return X\n",
    "\n",
    "    n_features = X.shape[1]\n",
    "    ind = np.arange(n_features)\n",
    "    sel = np.zeros(n_features, dtype=bool)\n",
    "    sel[np.asarray(selected)] = True\n",
    "    not_sel = np.logical_not(sel)\n",
    "    n_selected = np.sum(sel)\n",
    "\n",
    "    if n_selected == 0:\n",
    "        # No features selected.\n",
    "        return X\n",
    "    elif n_selected == n_features:\n",
    "        # All features selected.\n",
    "        return transform(X)\n",
    "    else:\n",
    "        X_sel = transform(X[:, ind[sel]])\n",
    "        X_not_sel = X[:, ind[not_sel]]\n",
    "\n",
    "        if sparse.issparse(X_sel) or sparse.issparse(X_not_sel):\n",
    "            return sparse.hstack((X_sel, X_not_sel))\n",
    "        else:\n",
    "            return np.hstack((X_sel, X_not_sel))\n",
    "\n",
    "\n",
    "class _BaseEncoder(BaseEstimator, TransformerMixin):\n",
    "    \"\"\"\n",
    "    Base class for encoders that includes the code to categorize and\n",
    "    transform the input features.\n",
    "\n",
    "    \"\"\"\n",
    "\n",
    "    def _fit(self, X, handle_unknown='error'):\n",
    "\n",
    "        X_temp = check_array(X, dtype=None)\n",
    "        if not hasattr(X, 'dtype') and np.issubdtype(X_temp.dtype, np.str_):\n",
    "            X = check_array(X, dtype=np.object)\n",
    "        else:\n",
    "            X = X_temp\n",
    "\n",
    "        n_samples, n_features = X.shape\n",
    "\n",
    "        if self.categories != 'auto':\n",
    "            for cats in self.categories:\n",
    "                if not np.all(np.sort(cats) == np.array(cats)):\n",
    "                    raise ValueError(\"Unsorted categories are not yet \"\n",
    "                                     \"supported\")\n",
    "            if len(self.categories) != n_features:\n",
    "                raise ValueError(\"Shape mismatch: if n_values is an array,\"\n",
    "                                 \" it has to be of shape (n_features,).\")\n",
    "\n",
    "        self._label_encoders_ = [LabelEncoder() for _ in range(n_features)]\n",
    "\n",
    "        for i in range(n_features):\n",
    "            le = self._label_encoders_[i]\n",
    "            Xi = X[:, i]\n",
    "            if self.categories == 'auto':\n",
    "                le.fit(Xi)\n",
    "            else:\n",
    "                if handle_unknown == 'error':\n",
    "                    valid_mask = np.in1d(Xi, self.categories[i])\n",
    "                    if not np.all(valid_mask):\n",
    "                        diff = np.unique(Xi[~valid_mask])\n",
    "                        msg = (\"Found unknown categories {0} in column {1}\"\n",
    "                               \" during fit\".format(diff, i))\n",
    "                        raise ValueError(msg)\n",
    "                le.classes_ = np.array(self.categories[i])\n",
    "\n",
    "        self.categories_ = [le.classes_ for le in self._label_encoders_]\n",
    "\n",
    "    def _transform(self, X, handle_unknown='error'):\n",
    "\n",
    "        X_temp = check_array(X, dtype=None)\n",
    "        if not hasattr(X, 'dtype') and np.issubdtype(X_temp.dtype, np.str_):\n",
    "            X = check_array(X, dtype=np.object)\n",
    "        else:\n",
    "            X = X_temp\n",
    "\n",
    "        _, n_features = X.shape\n",
    "        X_int = np.zeros_like(X, dtype=np.int)\n",
    "        X_mask = np.ones_like(X, dtype=np.bool)\n",
    "\n",
    "        for i in range(n_features):\n",
    "            Xi = X[:, i]\n",
    "            valid_mask = np.in1d(Xi, self.categories_[i])\n",
    "\n",
    "            if not np.all(valid_mask):\n",
    "                if handle_unknown == 'error':\n",
    "                    diff = np.unique(X[~valid_mask, i])\n",
    "                    msg = (\"Found unknown categories {0} in column {1}\"\n",
    "                           \" during transform\".format(diff, i))\n",
    "                    raise ValueError(msg)\n",
    "                else:\n",
    "                    # Set the problematic rows to an acceptable value and\n",
    "                    # continue `The rows are marked `X_mask` and will be\n",
    "                    # removed later.\n",
    "                    X_mask[:, i] = valid_mask\n",
    "                    Xi = Xi.copy()\n",
    "                    Xi[~valid_mask] = self.categories_[i][0]\n",
    "            X_int[:, i] = self._label_encoders_[i].transform(Xi)\n",
    "\n",
    "        return X_int, X_mask\n",
    "\n",
    "\n",
    "WARNING_MSG = (\n",
    "    \"The handling of integer data will change in the future. Currently, the \"\n",
    "    \"categories are determined based on the range [0, max(values)], while \"\n",
    "    \"in the future they will be determined based on the unique values.\\n\"\n",
    "    \"If you want the future behaviour, you can specify \\\"categories='auto'\\\".\"\n",
    ")\n",
    "\n",
    "\n",
    "class OneHotEncoder(_BaseEncoder):\n",
    "    def __init__(self, n_values=None, categorical_features=None,\n",
    "                 categories=None, sparse=True, dtype=np.float64,\n",
    "                 handle_unknown='error'):\n",
    "        self._categories = categories\n",
    "        if categories is None:\n",
    "            self.categories = 'auto'\n",
    "        else:\n",
    "            self.categories = categories\n",
    "        self.sparse = sparse\n",
    "        self.dtype = dtype\n",
    "        self.handle_unknown = handle_unknown\n",
    "\n",
    "        if n_values is not None:\n",
    "            pass\n",
    "            # warnings.warn(\"Deprecated\", DeprecationWarning)\n",
    "        else:\n",
    "            n_values = \"auto\"\n",
    "        self._deprecated_n_values = n_values\n",
    "\n",
    "        if categorical_features is not None:\n",
    "            pass\n",
    "            # warnings.warn(\"Deprecated\", DeprecationWarning)\n",
    "        else:\n",
    "            categorical_features = \"all\"\n",
    "        self._deprecated_categorical_features = categorical_features\n",
    "\n",
    "    # Deprecated keywords\n",
    "\n",
    "    @property\n",
    "    def n_values(self):\n",
    "        warnings.warn(\"The 'n_values' parameter is deprecated.\",\n",
    "                      DeprecationWarning)\n",
    "        return self._deprecated_n_values\n",
    "\n",
    "    @n_values.setter\n",
    "    def n_values(self, value):\n",
    "        warnings.warn(\"The 'n_values' parameter is deprecated.\",\n",
    "                      DeprecationWarning)\n",
    "        self._deprecated_n_values = value\n",
    "\n",
    "    @property\n",
    "    def categorical_features(self):\n",
    "        warnings.warn(\"The 'categorical_features' parameter is deprecated.\",\n",
    "                      DeprecationWarning)\n",
    "        return self._deprecated_categorical_features\n",
    "\n",
    "    @categorical_features.setter\n",
    "    def categorical_features(self, value):\n",
    "        warnings.warn(\"The 'categorical_features' parameter is deprecated.\",\n",
    "                      DeprecationWarning)\n",
    "        self._deprecated_categorical_features = value\n",
    "\n",
    "    # Deprecated attributes\n",
    "\n",
    "    @property\n",
    "    def active_features_(self):\n",
    "        check_is_fitted(self, 'categories_')\n",
    "        warnings.warn(\"The 'active_features_' attribute is deprecated.\",\n",
    "                      DeprecationWarning)\n",
    "        return self._active_features_\n",
    "\n",
    "    @property\n",
    "    def feature_indices_(self):\n",
    "        check_is_fitted(self, 'categories_')\n",
    "        warnings.warn(\"The 'feature_indices_' attribute is deprecated.\",\n",
    "                      DeprecationWarning)\n",
    "        return self._feature_indices_\n",
    "\n",
    "    @property\n",
    "    def n_values_(self):\n",
    "        check_is_fitted(self, 'categories_')\n",
    "        warnings.warn(\"The 'n_values_' attribute is deprecated.\",\n",
    "                      DeprecationWarning)\n",
    "        return self._n_values_\n",
    "\n",
    "    def _handle_deprecations(self, X):\n",
    "\n",
    "        user_set_categories = False\n",
    "\n",
    "        if self._categories is not None:\n",
    "            self._legacy_mode = False\n",
    "            user_set_categories = True\n",
    "\n",
    "        elif self._deprecated_n_values != 'auto':\n",
    "            msg = (\n",
    "                \"Passing 'n_values' is deprecated and will be removed in a \"\n",
    "                \"future release. You can use the 'categories' keyword instead.\"\n",
    "                \" 'n_values=n' corresponds to 'n_values=[range(n)]'.\")\n",
    "            warnings.warn(msg, DeprecationWarning)\n",
    "\n",
    "            # we internally translate this to the correct categories\n",
    "            # and don't use legacy mode\n",
    "            X = check_array(X, dtype=np.int)\n",
    "\n",
    "            if isinstance(self._deprecated_n_values, numbers.Integral):\n",
    "                n_features = X.shape[1]\n",
    "                self.categories = [\n",
    "                    list(range(self._deprecated_n_values))\n",
    "                    for _ in range(n_features)]\n",
    "                n_values = np.empty(n_features, dtype=np.int)\n",
    "                n_values.fill(self._deprecated_n_values)\n",
    "            else:\n",
    "                try:\n",
    "                    n_values = np.asarray(self._deprecated_n_values, dtype=int)\n",
    "                    self.categories = [list(range(i))\n",
    "                                       for i in self._deprecated_n_values]\n",
    "                except (ValueError, TypeError):\n",
    "                    raise TypeError(\n",
    "                        \"Wrong type for parameter `n_values`. Expected 'auto',\"\n",
    "                        \" int or array of ints, got %r\".format(type(X)))\n",
    "\n",
    "            self._n_values_ = n_values\n",
    "            n_values = np.hstack([[0], n_values])\n",
    "            indices = np.cumsum(n_values)\n",
    "            self._feature_indices_ = indices\n",
    "\n",
    "            self._legacy_mode = False\n",
    "\n",
    "        else:  # n_values = 'auto'\n",
    "            if self.handle_unknown == 'ignore':\n",
    "                # no change in behaviour, no need to raise deprecation warning\n",
    "                self._legacy_mode = False\n",
    "            else:\n",
    "\n",
    "                # check if we have integer or categorical input\n",
    "                try:\n",
    "                    X = check_array(X, dtype=np.int)\n",
    "                except ValueError:\n",
    "                    self._legacy_mode = False\n",
    "                else:\n",
    "                    warnings.warn(WARNING_MSG, DeprecationWarning)\n",
    "                    self._legacy_mode = True\n",
    "\n",
    "        if (not isinstance(self._deprecated_categorical_features,\n",
    "                           six.string_types)\n",
    "                or (isinstance(self._deprecated_categorical_features,\n",
    "                               six.string_types)\n",
    "                    and self._deprecated_categorical_features != 'all')):\n",
    "            if user_set_categories:\n",
    "                raise ValueError(\n",
    "                    \"The 'categorical_features' keyword is deprecated, and \"\n",
    "                    \"cannot be used together with specifying 'categories'.\")\n",
    "            warnings.warn(\"The 'categorical_features' keyword is deprecated.\",\n",
    "                          DeprecationWarning)\n",
    "            self._legacy_mode = True\n",
    "\n",
    "    def fit(self, X, y=None):\n",
    "        \"\"\"Fit OneHotEncoder to X.\n",
    "\n",
    "        Parameters\n",
    "        ----------\n",
    "        X : array-like, shape [n_samples, n_feature]\n",
    "            The data to determine the categories of each feature.\n",
    "\n",
    "        Returns\n",
    "        -------\n",
    "        self\n",
    "        \"\"\"\n",
    "        if self.handle_unknown not in ['error', 'ignore']:\n",
    "            template = (\"handle_unknown should be either 'error' or \"\n",
    "                        \"'ignore', got %s\")\n",
    "            raise ValueError(template % self.handle_unknown)\n",
    "\n",
    "        self._handle_deprecations(X)\n",
    "\n",
    "        if self._legacy_mode:\n",
    "            # TODO not with _transform_selected ??\n",
    "            self._legacy_fit_transform(X)\n",
    "            return self\n",
    "        else:\n",
    "            self._fit(X, handle_unknown=self.handle_unknown)\n",
    "            return self\n",
    "\n",
    "    def _legacy_fit_transform(self, X):\n",
    "        \"\"\"Assumes X contains only categorical features.\"\"\"\n",
    "        self_n_values = self._deprecated_n_values\n",
    "        dtype = getattr(X, 'dtype', None)\n",
    "        X = check_array(X, dtype=np.int)\n",
    "        if np.any(X < 0):\n",
    "            raise ValueError(\"X needs to contain only non-negative integers.\")\n",
    "        n_samples, n_features = X.shape\n",
    "        if (isinstance(self_n_values, six.string_types) and\n",
    "                self_n_values == 'auto'):\n",
    "            n_values = np.max(X, axis=0) + 1\n",
    "        elif isinstance(self_n_values, numbers.Integral):\n",
    "            if (np.max(X, axis=0) >= self_n_values).any():\n",
    "                raise ValueError(\"Feature out of bounds for n_values=%d\"\n",
    "                                 % self_n_values)\n",
    "            n_values = np.empty(n_features, dtype=np.int)\n",
    "            n_values.fill(self_n_values)\n",
    "        else:\n",
    "            try:\n",
    "                n_values = np.asarray(self_n_values, dtype=int)\n",
    "            except (ValueError, TypeError):\n",
    "                raise TypeError(\"Wrong type for parameter `n_values`. Expected\"\n",
    "                                \" 'auto', int or array of ints, got %r\"\n",
    "                                % type(X))\n",
    "            if n_values.ndim < 1 or n_values.shape[0] != X.shape[1]:\n",
    "                raise ValueError(\"Shape mismatch: if n_values is an array,\"\n",
    "                                 \" it has to be of shape (n_features,).\")\n",
    "\n",
    "        self._n_values_ = n_values\n",
    "        self.categories_ = [np.arange(n_val - 1, dtype=dtype)\n",
    "                            for n_val in n_values]\n",
    "        n_values = np.hstack([[0], n_values])\n",
    "        indices = np.cumsum(n_values)\n",
    "        self._feature_indices_ = indices\n",
    "\n",
    "        column_indices = (X + indices[:-1]).ravel()\n",
    "        row_indices = np.repeat(np.arange(n_samples, dtype=np.int32),\n",
    "                                n_features)\n",
    "        data = np.ones(n_samples * n_features)\n",
    "        out = sparse.coo_matrix((data, (row_indices, column_indices)),\n",
    "                                shape=(n_samples, indices[-1]),\n",
    "                                dtype=self.dtype).tocsr()\n",
    "\n",
    "        if (isinstance(self_n_values, six.string_types) and\n",
    "                self_n_values == 'auto'):\n",
    "            mask = np.array(out.sum(axis=0)).ravel() != 0\n",
    "            active_features = np.where(mask)[0]\n",
    "            out = out[:, active_features]\n",
    "            self._active_features_ = active_features\n",
    "\n",
    "            self.categories_ = [\n",
    "                np.unique(X[:, i]).astype(dtype) if dtype else np.unique(X[:, i])\n",
    "                for i in range(n_features)]\n",
    "            #import pdb; pdb.set_trace()\n",
    "\n",
    "        return out if self.sparse else out.toarray()\n",
    "\n",
    "    def fit_transform(self, X, y=None):\n",
    "        \"\"\"Fit OneHotEncoder to X, then transform X.\n",
    "\n",
    "        Equivalent to self.fit(X).transform(X), but more convenient and more\n",
    "        efficient. See fit for the parameters, transform for the return value.\n",
    "\n",
    "        Parameters\n",
    "        ----------\n",
    "        X : array-like, shape [n_samples, n_feature]\n",
    "            Input array of type int.\n",
    "        \"\"\"\n",
    "        if self.handle_unknown not in ['error', 'ignore']:\n",
    "            template = (\"handle_unknown should be either 'error' or \"\n",
    "                        \"'ignore', got %s\")\n",
    "            raise ValueError(template % self.handle_unknown)\n",
    "\n",
    "        self._handle_deprecations(X)\n",
    "\n",
    "        if self._legacy_mode:\n",
    "            return _transform_selected(X, self._legacy_fit_transform,\n",
    "                                       self._deprecated_categorical_features,\n",
    "                                       copy=True)\n",
    "        else:\n",
    "            return self.fit(X).transform(X)\n",
    "\n",
    "    def _legacy_transform(self, X):\n",
    "        \"\"\"Assumes X contains only categorical features.\"\"\"\n",
    "        self_n_values = self._deprecated_n_values\n",
    "        X = check_array(X, dtype=np.int)\n",
    "        if np.any(X < 0):\n",
    "            raise ValueError(\"X needs to contain only non-negative integers.\")\n",
    "        n_samples, n_features = X.shape\n",
    "\n",
    "        indices = self._feature_indices_\n",
    "        if n_features != indices.shape[0] - 1:\n",
    "            raise ValueError(\"X has different shape than during fitting.\"\n",
    "                             \" Expected %d, got %d.\"\n",
    "                             % (indices.shape[0] - 1, n_features))\n",
    "\n",
    "        # We use only those categorical features of X that are known using fit.\n",
    "        # i.e lesser than n_values_ using mask.\n",
    "        # This means, if self.handle_unknown is \"ignore\", the row_indices and\n",
    "        # col_indices corresponding to the unknown categorical feature are\n",
    "        # ignored.\n",
    "        mask = (X < self._n_values_).ravel()\n",
    "        if np.any(~mask):\n",
    "            if self.handle_unknown not in ['error', 'ignore']:\n",
    "                raise ValueError(\"handle_unknown should be either error or \"\n",
    "                                 \"unknown got %s\" % self.handle_unknown)\n",
    "            if self.handle_unknown == 'error':\n",
    "                raise ValueError(\"unknown categorical feature present %s \"\n",
    "                                 \"during transform.\" % X.ravel()[~mask])\n",
    "\n",
    "        column_indices = (X + indices[:-1]).ravel()[mask]\n",
    "        row_indices = np.repeat(np.arange(n_samples, dtype=np.int32),\n",
    "                                n_features)[mask]\n",
    "        data = np.ones(np.sum(mask))\n",
    "        out = sparse.coo_matrix((data, (row_indices, column_indices)),\n",
    "                                shape=(n_samples, indices[-1]),\n",
    "                                dtype=self.dtype).tocsr()\n",
    "        if (isinstance(self_n_values, six.string_types) and\n",
    "                self_n_values == 'auto'):\n",
    "            out = out[:, self._active_features_]\n",
    "\n",
    "        return out if self.sparse else out.toarray()\n",
    "\n",
    "    def _transform_new(self, X):\n",
    "        \"\"\"New implementation assuming categorical input\"\"\"\n",
    "        X_temp = check_array(X, dtype=None)\n",
    "        if not hasattr(X, 'dtype') and np.issubdtype(X_temp.dtype, np.str_):\n",
    "            X = check_array(X, dtype=np.object)\n",
    "        else:\n",
    "            X = X_temp\n",
    "\n",
    "        n_samples, n_features = X.shape\n",
    "\n",
    "        X_int, X_mask = self._transform(X, handle_unknown=self.handle_unknown)\n",
    "\n",
    "        mask = X_mask.ravel()\n",
    "        n_values = [cats.shape[0] for cats in self.categories_]\n",
    "        n_values = np.array([0] + n_values)\n",
    "        feature_indices = np.cumsum(n_values)\n",
    "\n",
    "        indices = (X_int + feature_indices[:-1]).ravel()[mask]\n",
    "        indptr = X_mask.sum(axis=1).cumsum()\n",
    "        indptr = np.insert(indptr, 0, 0)\n",
    "        data = np.ones(n_samples * n_features)[mask]\n",
    "\n",
    "        out = sparse.csr_matrix((data, indices, indptr),\n",
    "                                shape=(n_samples, feature_indices[-1]),\n",
    "                                dtype=self.dtype)\n",
    "        if not self.sparse:\n",
    "            return out.toarray()\n",
    "        else:\n",
    "            return out\n",
    "\n",
    "    def transform(self, X):\n",
    "        \"\"\"Transform X using one-hot encoding.\n",
    "\n",
    "        Parameters\n",
    "        ----------\n",
    "        X : array-like, shape [n_samples, n_features]\n",
    "            The data to encode.\n",
    "\n",
    "        Returns\n",
    "        -------\n",
    "        X_out : sparse matrix if sparse=True else a 2-d array\n",
    "            Transformed input.\n",
    "        \"\"\"\n",
    "        if not self._legacy_mode:\n",
    "            return self._transform_new(X)\n",
    "        else:\n",
    "            return _transform_selected(X, self._legacy_transform,\n",
    "                                       self._deprecated_categorical_features,\n",
    "                                       copy=True)\n",
    "\n",
    "    def inverse_transform(self, X):\n",
    "        \"\"\"Convert back the data to the original representation.\n",
    "\n",
    "        In case unknown categories are encountered (all zero's in the\n",
    "        one-hot encoding), ``None`` is used to represent this category.\n",
    "\n",
    "        Parameters\n",
    "        ----------\n",
    "        X : array-like or sparse matrix, shape [n_samples, n_encoded_features]\n",
    "            The transformed data.\n",
    "\n",
    "        Returns\n",
    "        -------\n",
    "        X_tr : array-like, shape [n_samples, n_features]\n",
    "            Inverse transformed array.\n",
    "\n",
    "        \"\"\"\n",
    "        # if self._legacy_mode:\n",
    "        #     raise ValueError(\"only supported for categorical features\")\n",
    "\n",
    "        check_is_fitted(self, 'categories_')\n",
    "        X = check_array(X, accept_sparse='csr')\n",
    "\n",
    "        n_samples, _ = X.shape\n",
    "        n_features = len(self.categories_)\n",
    "        n_transformed_features = sum([len(cats) for cats in self.categories_])\n",
    "\n",
    "        # validate shape of passed X\n",
    "        msg = (\"Shape of the passed X data is not correct. Expected {0} \"\n",
    "               \"columns, got {1}.\")\n",
    "        if X.shape[1] != n_transformed_features:\n",
    "            raise ValueError(msg.format(n_transformed_features, X.shape[1]))\n",
    "\n",
    "        # create resulting array of appropriate dtype\n",
    "        dt = np.find_common_type([cat.dtype for cat in self.categories_], [])\n",
    "        X_tr = np.empty((n_samples, n_features), dtype=dt)\n",
    "\n",
    "        j = 0\n",
    "        found_unknown = {}\n",
    "\n",
    "        for i in range(n_features):\n",
    "            n_categories = len(self.categories_[i])\n",
    "            sub = X[:, j:j + n_categories]\n",
    "\n",
    "            # for sparse X argmax returns 2D matrix, ensure 1D array\n",
    "            labels = np.asarray(_argmax(sub, axis=1)).flatten()\n",
    "            X_tr[:, i] = self.categories_[i][labels]\n",
    "\n",
    "            if self.handle_unknown == 'ignore':\n",
    "                # ignored unknown categories: we have a row of all zero's\n",
    "                unknown = np.asarray(sub.sum(axis=1) == 0).flatten()\n",
    "                if unknown.any():\n",
    "                    found_unknown[i] = unknown\n",
    "\n",
    "            j += n_categories\n",
    "\n",
    "        # if ignored are found: potentially need to upcast result to\n",
    "        # insert None values\n",
    "        if found_unknown:\n",
    "            if X_tr.dtype != object:\n",
    "                X_tr = X_tr.astype(object)\n",
    "\n",
    "            for idx, mask in found_unknown.items():\n",
    "                X_tr[mask, idx] = None\n",
    "\n",
    "        return X_tr"
   ]
  },
  {
   "cell_type": "markdown",
   "metadata": {
    "colab_type": "text",
    "id": "SBwSNZRbzAg4"
   },
   "source": [
    "## Categorical Encoding"
   ]
  },
  {
   "cell_type": "code",
   "execution_count": 0,
   "metadata": {
    "colab": {},
    "colab_type": "code",
    "id": "02VeOMbAhokA",
    "scrolled": true
   },
   "outputs": [],
   "source": [
    "# Perform OneHotEncoding on the Tm (team) categorical feature in the dataset.\n",
    "# This will allow for the conversion of the string values to numbers\n",
    "# for pipelining purposes\n",
    "cat_encoder = OneHotEncoder()\n",
    "\n",
    "nba_stats_cat_1hot = cat_encoder.fit_transform(nba_stats_cat)"
   ]
  },
  {
   "cell_type": "code",
   "execution_count": 0,
   "metadata": {
    "colab": {
     "base_uri": "https://localhost:8080/",
     "height": 894
    },
    "colab_type": "code",
    "id": "GsPQg9GthokD",
    "outputId": "f0bd1922-bc4a-4c95-a5d5-ef5eb83dfd74"
   },
   "outputs": [
    {
     "name": "stdout",
     "output_type": "stream",
     "text": [
      "  (0, 20)\t1.0\n",
      "  (1, 23)\t1.0\n",
      "  (2, 30)\t1.0\n",
      "  (3, 3)\t1.0\n",
      "  (4, 3)\t1.0\n",
      "  (5, 17)\t1.0\n",
      "  (6, 16)\t1.0\n",
      "  (7, 2)\t1.0\n",
      "  (8, 28)\t1.0\n",
      "  (9, 28)\t1.0\n",
      "  (10, 1)\t1.0\n",
      "  (11, 4)\t1.0\n",
      "  (12, 12)\t1.0\n",
      "  (13, 9)\t1.0\n",
      "  (14, 19)\t1.0\n",
      "  (15, 14)\t1.0\n",
      "  (16, 13)\t1.0\n",
      "  (17, 30)\t1.0\n",
      "  (18, 30)\t1.0\n",
      "  (19, 0)\t1.0\n",
      "  (20, 26)\t1.0\n",
      "  (21, 0)\t1.0\n",
      "  (22, 2)\t1.0\n",
      "  (23, 29)\t1.0\n",
      "  (24, 11)\t1.0\n",
      "  :\t:\n",
      "  (361, 21)\t1.0\n",
      "  (362, 21)\t1.0\n",
      "  (363, 0)\t1.0\n",
      "  (364, 13)\t1.0\n",
      "  (365, 0)\t1.0\n",
      "  (366, 7)\t1.0\n",
      "  (367, 14)\t1.0\n",
      "  (368, 4)\t1.0\n",
      "  (369, 7)\t1.0\n",
      "  (370, 23)\t1.0\n",
      "  (371, 29)\t1.0\n",
      "  (372, 28)\t1.0\n",
      "  (373, 10)\t1.0\n",
      "  (374, 5)\t1.0\n",
      "  (375, 9)\t1.0\n",
      "  (376, 30)\t1.0\n",
      "  (377, 17)\t1.0\n",
      "  (378, 25)\t1.0\n",
      "  (379, 10)\t1.0\n",
      "  (380, 25)\t1.0\n",
      "  (381, 18)\t1.0\n",
      "  (382, 2)\t1.0\n",
      "  (383, 28)\t1.0\n",
      "  (384, 28)\t1.0\n",
      "  (385, 20)\t1.0\n"
     ]
    }
   ],
   "source": [
    "print(nba_stats_cat_1hot)"
   ]
  },
  {
   "cell_type": "markdown",
   "metadata": {
    "colab_type": "text",
    "id": "DOSS0V4KyIQN"
   },
   "source": [
    "## Create Pipeline"
   ]
  },
  {
   "cell_type": "code",
   "execution_count": 0,
   "metadata": {
    "colab": {},
    "colab_type": "code",
    "id": "icVKy9ZHhokH"
   },
   "outputs": [],
   "source": [
    "from sklearn.base import BaseEstimator, TransformerMixin\n",
    "\n",
    "# Create a class to select numerical or categorical columns \n",
    "# since Scikit-Learn doesn't handle DataFrames yet\n",
    "class DataFrameSelector(BaseEstimator, TransformerMixin):\n",
    "    def __init__(self, attribute_names):\n",
    "        self.attribute_names = attribute_names\n",
    "    def fit(self, X, y=None):\n",
    "        return self\n",
    "    def transform(self, X):\n",
    "        return X[self.attribute_names].values"
   ]
  },
  {
   "cell_type": "code",
   "execution_count": 0,
   "metadata": {
    "colab": {},
    "colab_type": "code",
    "id": "uoKs88LehokJ"
   },
   "outputs": [],
   "source": [
    "# Create two separate pipelines for data cleaning, one for\n",
    "# numerical features and the other for categorical features\n",
    "\n",
    "from sklearn.pipeline import Pipeline\n",
    "from sklearn.preprocessing import StandardScaler\n",
    "\n",
    "num_attribs = list(nba_stats_num)\n",
    "cat_attribs = list(nba_stats_cat)\n",
    "\n",
    "num_pipeline = Pipeline([\n",
    "        ('selector', DataFrameSelector(num_attribs)),\n",
    "        ('std_scaler', StandardScaler()),\n",
    "    ])\n",
    "\n",
    "cat_pipeline = Pipeline([\n",
    "        ('selector', DataFrameSelector(cat_attribs)),\n",
    "        ('cat_encoder', OneHotEncoder(sparse=False)),\n",
    "    ])"
   ]
  },
  {
   "cell_type": "code",
   "execution_count": 0,
   "metadata": {
    "colab": {},
    "colab_type": "code",
    "id": "QNQeIFjvhokN"
   },
   "outputs": [],
   "source": [
    "# Join the numerical and categorical pipelines together\n",
    "# to form a unified pipeline\n",
    "\n",
    "from sklearn.pipeline import FeatureUnion\n",
    "full_pipeline = FeatureUnion(transformer_list = [\n",
    "    ('num_pipeline', num_pipeline),\n",
    "    ('cat_pipeline', cat_pipeline)\n",
    "])"
   ]
  },
  {
   "cell_type": "code",
   "execution_count": 0,
   "metadata": {
    "colab": {
     "base_uri": "https://localhost:8080/",
     "height": 54
    },
    "colab_type": "code",
    "id": "Y7ObnrKwhokP",
    "outputId": "465ce411-63ca-4db5-e3f2-74c6cf9de4d3"
   },
   "outputs": [
    {
     "data": {
      "text/plain": [
       "(386, 55)"
      ]
     },
     "execution_count": 23,
     "metadata": {
      "tags": []
     },
     "output_type": "execute_result"
    }
   ],
   "source": [
    "#Generate and store a cleaned dataset for model training and evaluation\n",
    "nba_stats_cleaned = full_pipeline.fit_transform(nba_stats)\n",
    "nba_stats_cleaned.shape"
   ]
  },
  {
   "cell_type": "markdown",
   "metadata": {
    "colab_type": "text",
    "id": "muBMO1EwhokS"
   },
   "source": [
    "# Model Selection, Training, & Evaluation (Non-neural Net)"
   ]
  },
  {
   "cell_type": "markdown",
   "metadata": {
    "colab_type": "text",
    "id": "iGmYlF8AhokU"
   },
   "source": [
    "## Evaluate Performance on Validation Sets"
   ]
  },
  {
   "cell_type": "code",
   "execution_count": 0,
   "metadata": {
    "colab": {},
    "colab_type": "code",
    "id": "pcTFtiEghokU"
   },
   "outputs": [],
   "source": [
    "# Import all necessary classes & methods to\n",
    "# evaluate model training scores\n",
    "import numpy as np\n",
    "from sklearn.model_selection import cross_val_score\n",
    "\n",
    "def display_scores(scores):\n",
    "    print(\"Mean:\", scores.mean())\n",
    "    print(\"Standard deviation:\", scores.std())"
   ]
  },
  {
   "cell_type": "markdown",
   "metadata": {
    "colab_type": "text",
    "id": "aIjshgudhokf"
   },
   "source": [
    "## Random Forest Regression"
   ]
  },
  {
   "cell_type": "code",
   "execution_count": 0,
   "metadata": {
    "colab": {
     "base_uri": "https://localhost:8080/",
     "height": 373
    },
    "colab_type": "code",
    "id": "bJF1eeEChoki",
    "outputId": "31f77317-4557-47db-9ae4-1f26d154e53e"
   },
   "outputs": [
    {
     "name": "stderr",
     "output_type": "stream",
     "text": [
      "/usr/local/lib/python3.6/dist-packages/sklearn/ensemble/forest.py:246: FutureWarning: The default value of n_estimators will change from 10 in version 0.20 to 100 in 0.22.\n",
      "  \"10 in version 0.20 to 100 in 0.22.\", FutureWarning)\n",
      "/usr/local/lib/python3.6/dist-packages/sklearn/ensemble/forest.py:246: FutureWarning: The default value of n_estimators will change from 10 in version 0.20 to 100 in 0.22.\n",
      "  \"10 in version 0.20 to 100 in 0.22.\", FutureWarning)\n",
      "/usr/local/lib/python3.6/dist-packages/sklearn/ensemble/forest.py:246: FutureWarning: The default value of n_estimators will change from 10 in version 0.20 to 100 in 0.22.\n",
      "  \"10 in version 0.20 to 100 in 0.22.\", FutureWarning)\n",
      "/usr/local/lib/python3.6/dist-packages/sklearn/ensemble/forest.py:246: FutureWarning: The default value of n_estimators will change from 10 in version 0.20 to 100 in 0.22.\n",
      "  \"10 in version 0.20 to 100 in 0.22.\", FutureWarning)\n",
      "/usr/local/lib/python3.6/dist-packages/sklearn/ensemble/forest.py:246: FutureWarning: The default value of n_estimators will change from 10 in version 0.20 to 100 in 0.22.\n",
      "  \"10 in version 0.20 to 100 in 0.22.\", FutureWarning)\n",
      "/usr/local/lib/python3.6/dist-packages/sklearn/ensemble/forest.py:246: FutureWarning: The default value of n_estimators will change from 10 in version 0.20 to 100 in 0.22.\n",
      "  \"10 in version 0.20 to 100 in 0.22.\", FutureWarning)\n",
      "/usr/local/lib/python3.6/dist-packages/sklearn/ensemble/forest.py:246: FutureWarning: The default value of n_estimators will change from 10 in version 0.20 to 100 in 0.22.\n",
      "  \"10 in version 0.20 to 100 in 0.22.\", FutureWarning)\n",
      "/usr/local/lib/python3.6/dist-packages/sklearn/ensemble/forest.py:246: FutureWarning: The default value of n_estimators will change from 10 in version 0.20 to 100 in 0.22.\n",
      "  \"10 in version 0.20 to 100 in 0.22.\", FutureWarning)\n",
      "/usr/local/lib/python3.6/dist-packages/sklearn/ensemble/forest.py:246: FutureWarning: The default value of n_estimators will change from 10 in version 0.20 to 100 in 0.22.\n",
      "  \"10 in version 0.20 to 100 in 0.22.\", FutureWarning)\n",
      "/usr/local/lib/python3.6/dist-packages/sklearn/ensemble/forest.py:246: FutureWarning: The default value of n_estimators will change from 10 in version 0.20 to 100 in 0.22.\n",
      "  \"10 in version 0.20 to 100 in 0.22.\", FutureWarning)\n"
     ]
    }
   ],
   "source": [
    "from sklearn.ensemble import RandomForestRegressor\n",
    "forest_reg = RandomForestRegressor(random_state = 42)\n",
    "\n",
    "# Cross-validate mean squared error scores\n",
    "forest_scores = cross_val_score(forest_reg, nba_stats_cleaned, nba_salary,\n",
    "                             scoring=\"neg_mean_squared_error\", cv=10)"
   ]
  },
  {
   "cell_type": "code",
   "execution_count": 0,
   "metadata": {
    "colab": {
     "base_uri": "https://localhost:8080/",
     "height": 70
    },
    "colab_type": "code",
    "id": "Si60TMn3hokq",
    "outputId": "ff9f696a-0a64-4cce-a8f8-ffef9f9fea79",
    "scrolled": true
   },
   "outputs": [
    {
     "name": "stdout",
     "output_type": "stream",
     "text": [
      "Mean: 5515252.036841055\n",
      "Standard deviation: 918847.3599394716\n"
     ]
    }
   ],
   "source": [
    "# Derive and display RMSE metric from previously cross-validated scores\n",
    "forest_rmse_scores = np.sqrt(-forest_scores)\n",
    "display_scores(forest_rmse_scores)"
   ]
  },
  {
   "cell_type": "markdown",
   "metadata": {
    "colab_type": "text",
    "id": "B6OGf9SnHj9L"
   },
   "source": [
    "### Tuning hyperparameters"
   ]
  },
  {
   "cell_type": "code",
   "execution_count": 0,
   "metadata": {
    "colab": {
     "base_uri": "https://localhost:8080/",
     "height": 272
    },
    "colab_type": "code",
    "id": "yNC3DdI_hokw",
    "outputId": "a1b60feb-b453-4118-e8ba-f245ef01f10f"
   },
   "outputs": [
    {
     "name": "stderr",
     "output_type": "stream",
     "text": [
      "/usr/local/lib/python3.6/dist-packages/sklearn/model_selection/_search.py:841: DeprecationWarning: The default of the `iid` parameter will change from True to False in version 0.22 and will be removed in 0.24. This will change numeric results when test-set sizes are unequal.\n",
      "  DeprecationWarning)\n"
     ]
    },
    {
     "data": {
      "text/plain": [
       "RandomizedSearchCV(cv=5, error_score='raise-deprecating',\n",
       "          estimator=RandomForestRegressor(bootstrap=True, criterion='mse', max_depth=None,\n",
       "           max_features='auto', max_leaf_nodes=None,\n",
       "           min_impurity_decrease=0.0, min_impurity_split=None,\n",
       "           min_samples_leaf=1, min_samples_split=2,\n",
       "           min_weight_fraction_leaf=0.0, n_estimators='warn', n_jobs=None,\n",
       "           oob_score=False, random_state=42, verbose=0, warm_start=False),\n",
       "          fit_params=None, iid='warn', n_iter=10, n_jobs=None,\n",
       "          param_distributions={'n_estimators': <scipy.stats._distn_infrastructure.rv_frozen object at 0x7f7760897d30>, 'max_features': <scipy.stats._distn_infrastructure.rv_frozen object at 0x7f775f202080>},\n",
       "          pre_dispatch='2*n_jobs', random_state=42, refit=True,\n",
       "          return_train_score='warn', scoring='neg_mean_squared_error',\n",
       "          verbose=0)"
      ]
     },
     "execution_count": 27,
     "metadata": {
      "tags": []
     },
     "output_type": "execute_result"
    }
   ],
   "source": [
    "from sklearn.model_selection import RandomizedSearchCV\n",
    "from scipy.stats import randint\n",
    "\n",
    "param_distribs = {\n",
    "        'n_estimators': randint(low=1, high=150),\n",
    "        'max_features': randint(low=1, high=25),\n",
    "    }\n",
    "\n",
    "# Tune the hyperparameters to improve the random forest regressor\n",
    "# model's performance.\n",
    "forest_reg = RandomForestRegressor(random_state=42)\n",
    "rnd_search = RandomizedSearchCV(forest_reg, param_distributions=param_distribs,\n",
    "                                n_iter=10, cv=5, scoring='neg_mean_squared_error', \n",
    "                                random_state=42)\n",
    "\n",
    "# Fit the training set to the improved model\n",
    "rnd_search.fit(nba_stats_cleaned, nba_salary)"
   ]
  },
  {
   "cell_type": "code",
   "execution_count": 0,
   "metadata": {
    "colab": {
     "base_uri": "https://localhost:8080/",
     "height": 54
    },
    "colab_type": "code",
    "id": "2deLVDFphok2",
    "outputId": "6b1229ef-4999-47f7-f7cd-f822e5372888"
   },
   "outputs": [
    {
     "data": {
      "text/plain": [
       "{'max_features': 22, 'n_estimators': 53}"
      ]
     },
     "execution_count": 28,
     "metadata": {
      "tags": []
     },
     "output_type": "execute_result"
    }
   ],
   "source": [
    "# Identify optimal hyperparameter structure\n",
    "rnd_search.best_params_"
   ]
  },
  {
   "cell_type": "markdown",
   "metadata": {
    "colab_type": "text",
    "id": "cUtzdzPg_S9F"
   },
   "source": [
    "## Test Set Performance"
   ]
  },
  {
   "cell_type": "code",
   "execution_count": 0,
   "metadata": {
    "colab": {},
    "colab_type": "code",
    "id": "F4sbVYYfhok7"
   },
   "outputs": [],
   "source": [
    "final_model = rnd_search.best_estimator_"
   ]
  },
  {
   "cell_type": "code",
   "execution_count": 0,
   "metadata": {
    "colab": {},
    "colab_type": "code",
    "id": "Pc5gbXSthok8"
   },
   "outputs": [],
   "source": [
    "X_test = test_set.drop(\"Salary\", axis=1)\n",
    "y_test = test_set[\"Salary\"].copy()"
   ]
  },
  {
   "cell_type": "code",
   "execution_count": 0,
   "metadata": {
    "colab": {},
    "colab_type": "code",
    "id": "xu6EoW8shok-"
   },
   "outputs": [],
   "source": [
    "# Clean the data set with the pipeline\n",
    "X_test_cleaned = full_pipeline.transform(X_test)\n",
    "final_predictions = final_model.predict(X_test_cleaned)"
   ]
  },
  {
   "cell_type": "code",
   "execution_count": 0,
   "metadata": {
    "colab": {},
    "colab_type": "code",
    "id": "6US0DxBMholB"
   },
   "outputs": [],
   "source": [
    "from sklearn.metrics import mean_squared_error\n",
    "\n",
    "# Derive RMSE metric from test set evaluation\n",
    "final_mse = mean_squared_error(y_test, final_predictions)\n",
    "final_rmse = np.sqrt(final_mse)"
   ]
  },
  {
   "cell_type": "code",
   "execution_count": 0,
   "metadata": {
    "colab": {
     "base_uri": "https://localhost:8080/",
     "height": 34
    },
    "colab_type": "code",
    "id": "9rOmIJMDholD",
    "outputId": "f0f17534-3a1f-476c-f0bf-3c53e0385cf8"
   },
   "outputs": [
    {
     "data": {
      "text/plain": [
       "4174096.2823522706"
      ]
     },
     "execution_count": 33,
     "metadata": {
      "tags": []
     },
     "output_type": "execute_result"
    }
   ],
   "source": [
    "final_rmse"
   ]
  },
  {
   "cell_type": "markdown",
   "metadata": {
    "colab_type": "text",
    "id": "ynTVqh0jholI"
   },
   "source": [
    "# Model Selection, Training, & Evaluation (Neural Net)"
   ]
  },
  {
   "cell_type": "markdown",
   "metadata": {
    "colab_type": "text",
    "id": "plQTppBD2Hnq"
   },
   "source": [
    "## Create Validation Set"
   ]
  },
  {
   "cell_type": "code",
   "execution_count": 0,
   "metadata": {
    "colab": {},
    "colab_type": "code",
    "id": "AGteo8kg2H82"
   },
   "outputs": [],
   "source": [
    "X_val = nba_stats_cleaned[:40]\n",
    "partial_X_train = nba_stats_cleaned[40:]\n",
    "\n",
    "y_val = nba_salary[:40]\n",
    "partial_y_train = nba_salary[40:]"
   ]
  },
  {
   "cell_type": "markdown",
   "metadata": {
    "colab_type": "text",
    "id": "-d3DBP3u9Xyh"
   },
   "source": [
    "## Neural Net Construction"
   ]
  },
  {
   "cell_type": "code",
   "execution_count": 0,
   "metadata": {
    "colab": {
     "base_uri": "https://localhost:8080/",
     "height": 54
    },
    "colab_type": "code",
    "id": "21QtS2kDholI",
    "outputId": "259c923d-7249-45d5-90f9-ba0e8d2267a0"
   },
   "outputs": [
    {
     "name": "stderr",
     "output_type": "stream",
     "text": [
      "Using TensorFlow backend.\n"
     ]
    }
   ],
   "source": [
    "import keras\n",
    "keras.__version__\n",
    "\n",
    "import tensorflow as tf"
   ]
  },
  {
   "cell_type": "code",
   "execution_count": 0,
   "metadata": {
    "colab": {},
    "colab_type": "code",
    "id": "a4VwSP8PholL"
   },
   "outputs": [],
   "source": [
    "from keras import models\n",
    "from keras import layers\n",
    "\n",
    "# Create model-building functions to instantiate multiple models\n",
    "# with minimal code duplication\n",
    "\n",
    "def build_one_layer_model(nodes, dataset): \n",
    "    model = models.Sequential()\n",
    "    model.add(layers.Dense(nodes, activation='relu', input_shape=(dataset.shape[1],)))\n",
    "    model.add(layers.Dense(1))\n",
    "    \n",
    "    model.compile(optimizer='rmsprop', loss='mse', metrics=['mae'])\n",
    "    \n",
    "    return model\n",
    "\n",
    "def build_two_layer_model(nodes, dataset):\n",
    "    model = models.Sequential()\n",
    "    model.add(layers.Dense(nodes, activation='relu', input_shape=(dataset.shape[1],)))\n",
    "    model.add(layers.Dense(nodes, activation='relu'))\n",
    "    model.add(layers.Dense(1))\n",
    "    \n",
    "    model.compile(optimizer='rmsprop', loss='mse', metrics=['mae'])\n",
    "    \n",
    "    return model\n",
    "\n",
    "def build_three_layer_model(nodes, dataset):\n",
    "    model = models.Sequential()\n",
    "    model.add(layers.Dense(nodes, activation='relu', input_shape=(dataset.shape[1],)))\n",
    "    model.add(layers.Dense(nodes, activation='relu'))\n",
    "    model.add(layers.Dense(nodes, activation='relu'))\n",
    "    model.add(layers.Dense(1))\n",
    "    \n",
    "    model.compile(optimizer='rmsprop', loss='mse', metrics=['mae'])\n",
    "    \n",
    "    return model"
   ]
  },
  {
   "cell_type": "code",
   "execution_count": 0,
   "metadata": {
    "colab": {},
    "colab_type": "code",
    "id": "SvvET1pS-Z9y"
   },
   "outputs": [],
   "source": [
    "# Number of nodes that can exist in a model's hidden layer\n",
    "node_count = [32, 128]"
   ]
  },
  {
   "cell_type": "markdown",
   "metadata": {
    "colab_type": "text",
    "id": "7FnhPI1r9f2f"
   },
   "source": [
    "## Neural Net Evaluation"
   ]
  },
  {
   "cell_type": "code",
   "execution_count": 0,
   "metadata": {
    "colab": {},
    "colab_type": "code",
    "id": "ZAZn0n1WholN"
   },
   "outputs": [],
   "source": [
    "# Evaluate the model's performance on the validation set\n",
    "def train_and_validate_model(model):\n",
    "    model.fit(partial_X_train,\n",
    "            partial_y_train,\n",
    "            epochs=8,\n",
    "            batch_size=512,\n",
    "            validation_data=(X_val, y_val))\n",
    "  \n",
    "    results = model.evaluate(X_val, y_val)\n",
    "    return results"
   ]
  },
  {
   "cell_type": "code",
   "execution_count": 0,
   "metadata": {
    "colab": {},
    "colab_type": "code",
    "id": "B8YMArOoholP"
   },
   "outputs": [],
   "source": [
    "# Evaluate the model's performance on the test set\n",
    "def test_model(model):\n",
    "    model.fit(nba_stats_cleaned,\n",
    "            nba_salary,\n",
    "            epochs=8,\n",
    "            batch_size=512)\n",
    "    \n",
    "    X_test_cleaned = full_pipeline.transform(X_test)\n",
    "  \n",
    "    results = model.evaluate(X_test_cleaned, y_test)\n",
    "    return results"
   ]
  },
  {
   "cell_type": "markdown",
   "metadata": {
    "colab_type": "text",
    "id": "cuKOi-xz-iJQ"
   },
   "source": [
    "### One Hidden Layer"
   ]
  },
  {
   "cell_type": "code",
   "execution_count": 0,
   "metadata": {
    "colab": {
     "base_uri": "https://localhost:8080/",
     "height": 810
    },
    "colab_type": "code",
    "id": "9GMVezOEholT",
    "outputId": "16691e17-f38c-464a-e538-76b097169bb0"
   },
   "outputs": [
    {
     "name": "stdout",
     "output_type": "stream",
     "text": [
      "Iteration # 1 , 32 nodes\n",
      "Train on 346 samples, validate on 40 samples\n",
      "Epoch 1/8\n",
      "346/346 [==============================] - 0s 301us/step - loss: 99757544439808.0000 - mean_absolute_error: 6666723.0000 - val_loss: 124497705304064.0000 - val_mean_absolute_error: 7542516.0000\n",
      "Epoch 2/8\n",
      "346/346 [==============================] - 0s 20us/step - loss: 99757544439808.0000 - mean_absolute_error: 6666724.0000 - val_loss: 124497705304064.0000 - val_mean_absolute_error: 7542516.0000\n",
      "Epoch 3/8\n",
      "346/346 [==============================] - 0s 8us/step - loss: 99757544439808.0000 - mean_absolute_error: 6666724.0000 - val_loss: 124497705304064.0000 - val_mean_absolute_error: 7542516.0000\n",
      "Epoch 4/8\n",
      "346/346 [==============================] - 0s 7us/step - loss: 99757544439808.0000 - mean_absolute_error: 6666724.0000 - val_loss: 124497705304064.0000 - val_mean_absolute_error: 7542516.0000\n",
      "Epoch 5/8\n",
      "346/346 [==============================] - 0s 9us/step - loss: 99757544439808.0000 - mean_absolute_error: 6666723.0000 - val_loss: 124497705304064.0000 - val_mean_absolute_error: 7542515.0000\n",
      "Epoch 6/8\n",
      "346/346 [==============================] - 0s 9us/step - loss: 99757544439808.0000 - mean_absolute_error: 6666723.0000 - val_loss: 124497705304064.0000 - val_mean_absolute_error: 7542515.0000\n",
      "Epoch 7/8\n",
      "346/346 [==============================] - 0s 8us/step - loss: 99757544439808.0000 - mean_absolute_error: 6666723.0000 - val_loss: 124497705304064.0000 - val_mean_absolute_error: 7542515.0000\n",
      "Epoch 8/8\n",
      "346/346 [==============================] - 0s 9us/step - loss: 99757544439808.0000 - mean_absolute_error: 6666724.0000 - val_loss: 124497705304064.0000 - val_mean_absolute_error: 7542515.0000\n",
      "40/40 [==============================] - 0s 128us/step\n",
      "RMSE: 11157853.75 \n",
      "\n",
      "\n",
      "\n",
      "Iteration # 2 , 128 nodes\n",
      "Train on 346 samples, validate on 40 samples\n",
      "Epoch 1/8\n",
      "346/346 [==============================] - 0s 308us/step - loss: 99757544439808.0000 - mean_absolute_error: 6666724.5000 - val_loss: 124497705304064.0000 - val_mean_absolute_error: 7542517.0000\n",
      "Epoch 2/8\n",
      "346/346 [==============================] - 0s 19us/step - loss: 99757552828416.0000 - mean_absolute_error: 6666724.5000 - val_loss: 124497705304064.0000 - val_mean_absolute_error: 7542516.0000\n",
      "Epoch 3/8\n",
      "346/346 [==============================] - 0s 12us/step - loss: 99757552828416.0000 - mean_absolute_error: 6666724.5000 - val_loss: 124497705304064.0000 - val_mean_absolute_error: 7542516.0000\n",
      "Epoch 4/8\n",
      "346/346 [==============================] - 0s 8us/step - loss: 99757536051200.0000 - mean_absolute_error: 6666724.5000 - val_loss: 124497705304064.0000 - val_mean_absolute_error: 7542516.0000\n",
      "Epoch 5/8\n",
      "346/346 [==============================] - 0s 8us/step - loss: 99757544439808.0000 - mean_absolute_error: 6666724.5000 - val_loss: 124497705304064.0000 - val_mean_absolute_error: 7542516.0000\n",
      "Epoch 6/8\n",
      "346/346 [==============================] - 0s 8us/step - loss: 99757544439808.0000 - mean_absolute_error: 6666724.0000 - val_loss: 124497696915456.0000 - val_mean_absolute_error: 7542516.0000\n",
      "Epoch 7/8\n",
      "346/346 [==============================] - 0s 12us/step - loss: 99757544439808.0000 - mean_absolute_error: 6666724.0000 - val_loss: 124497696915456.0000 - val_mean_absolute_error: 7542516.0000\n",
      "Epoch 8/8\n",
      "346/346 [==============================] - 0s 9us/step - loss: 99757544439808.0000 - mean_absolute_error: 6666723.0000 - val_loss: 124497696915456.0000 - val_mean_absolute_error: 7542515.0000\n",
      "40/40 [==============================] - 0s 84us/step\n",
      "RMSE: 11157853.45 \n",
      "\n",
      "\n",
      "\n"
     ]
    }
   ],
   "source": [
    "# Evaluate the model's performance on the validation set\n",
    "# when 1 hidden layer is present\n",
    "for i, num in enumerate(node_count):\n",
    "  print(\"Iteration #\", (i+1), \",\", num, \"nodes\")\n",
    "  \n",
    "  model = build_one_layer_model(num, partial_X_train)\n",
    "  results = train_and_validate_model(model)\n",
    "  \n",
    "  rmse = np.sqrt(results[0])\n",
    "  print(\"RMSE:\", round(rmse, 2), \"\\n\\n\\n\")"
   ]
  },
  {
   "cell_type": "markdown",
   "metadata": {
    "colab_type": "text",
    "id": "Zarsv0Wn-pvd"
   },
   "source": [
    "### Two Hidden Layers"
   ]
  },
  {
   "cell_type": "code",
   "execution_count": 0,
   "metadata": {
    "colab": {
     "base_uri": "https://localhost:8080/",
     "height": 810
    },
    "colab_type": "code",
    "id": "nyq2CGY0holW",
    "outputId": "f2e2215c-bbb7-47e4-8435-a8190d797a4a"
   },
   "outputs": [
    {
     "name": "stdout",
     "output_type": "stream",
     "text": [
      "Iteration # 1 , 32 nodes\n",
      "Train on 346 samples, validate on 40 samples\n",
      "Epoch 1/8\n",
      "346/346 [==============================] - 0s 416us/step - loss: 99757561217024.0000 - mean_absolute_error: 6666724.0000 - val_loss: 124497705304064.0000 - val_mean_absolute_error: 7542516.0000\n",
      "Epoch 2/8\n",
      "346/346 [==============================] - 0s 9us/step - loss: 99757552828416.0000 - mean_absolute_error: 6666724.0000 - val_loss: 124497705304064.0000 - val_mean_absolute_error: 7542516.0000\n",
      "Epoch 3/8\n",
      "346/346 [==============================] - 0s 8us/step - loss: 99757561217024.0000 - mean_absolute_error: 6666724.0000 - val_loss: 124497705304064.0000 - val_mean_absolute_error: 7542516.0000\n",
      "Epoch 4/8\n",
      "346/346 [==============================] - 0s 10us/step - loss: 99757561217024.0000 - mean_absolute_error: 6666724.0000 - val_loss: 124497705304064.0000 - val_mean_absolute_error: 7542516.0000\n",
      "Epoch 5/8\n",
      "346/346 [==============================] - 0s 9us/step - loss: 99757552828416.0000 - mean_absolute_error: 6666724.0000 - val_loss: 124497705304064.0000 - val_mean_absolute_error: 7542515.0000\n",
      "Epoch 6/8\n",
      "346/346 [==============================] - 0s 9us/step - loss: 99757552828416.0000 - mean_absolute_error: 6666723.0000 - val_loss: 124497705304064.0000 - val_mean_absolute_error: 7542515.0000\n",
      "Epoch 7/8\n",
      "346/346 [==============================] - 0s 9us/step - loss: 99757552828416.0000 - mean_absolute_error: 6666724.0000 - val_loss: 124497705304064.0000 - val_mean_absolute_error: 7542515.0000\n",
      "Epoch 8/8\n",
      "346/346 [==============================] - 0s 9us/step - loss: 99757544439808.0000 - mean_absolute_error: 6666723.0000 - val_loss: 124497696915456.0000 - val_mean_absolute_error: 7542515.0000\n",
      "40/40 [==============================] - 0s 145us/step\n",
      "RMSE: 11157853.45 \n",
      "\n",
      "\n",
      "\n",
      "Iteration # 2 , 128 nodes\n",
      "Train on 346 samples, validate on 40 samples\n",
      "Epoch 1/8\n",
      "346/346 [==============================] - 0s 509us/step - loss: 99757544439808.0000 - mean_absolute_error: 6666724.0000 - val_loss: 124497705304064.0000 - val_mean_absolute_error: 7542515.0000\n",
      "Epoch 2/8\n",
      "346/346 [==============================] - 0s 20us/step - loss: 99757552828416.0000 - mean_absolute_error: 6666723.0000 - val_loss: 124497680138240.0000 - val_mean_absolute_error: 7542515.0000\n",
      "Epoch 3/8\n",
      "346/346 [==============================] - 0s 17us/step - loss: 99757536051200.0000 - mean_absolute_error: 6666723.0000 - val_loss: 124497680138240.0000 - val_mean_absolute_error: 7542514.5000\n",
      "Epoch 4/8\n",
      "346/346 [==============================] - 0s 13us/step - loss: 99757527662592.0000 - mean_absolute_error: 6666723.0000 - val_loss: 124497663361024.0000 - val_mean_absolute_error: 7542513.5000\n",
      "Epoch 5/8\n",
      "346/346 [==============================] - 0s 22us/step - loss: 99757519273984.0000 - mean_absolute_error: 6666722.5000 - val_loss: 124497654972416.0000 - val_mean_absolute_error: 7542513.5000\n",
      "Epoch 6/8\n",
      "346/346 [==============================] - 0s 18us/step - loss: 99757510885376.0000 - mean_absolute_error: 6666721.5000 - val_loss: 124497654972416.0000 - val_mean_absolute_error: 7542513.0000\n",
      "Epoch 7/8\n",
      "346/346 [==============================] - 0s 16us/step - loss: 99757502496768.0000 - mean_absolute_error: 6666721.5000 - val_loss: 124497654972416.0000 - val_mean_absolute_error: 7542513.0000\n",
      "Epoch 8/8\n",
      "346/346 [==============================] - 0s 23us/step - loss: 99757485719552.0000 - mean_absolute_error: 6666721.5000 - val_loss: 124497629806592.0000 - val_mean_absolute_error: 7542512.0000\n",
      "40/40 [==============================] - 0s 79us/step\n",
      "RMSE: 11157850.74 \n",
      "\n",
      "\n",
      "\n"
     ]
    }
   ],
   "source": [
    "# Evaluate the model's performance on the validation set\n",
    "# when 2 hidden layers are present\n",
    "for i, num in enumerate(node_count):\n",
    "  print(\"Iteration #\", (i+1), \",\", num, \"nodes\")\n",
    "  \n",
    "  model = build_two_layer_model(num, partial_X_train)\n",
    "  results = train_and_validate_model(model)\n",
    "  \n",
    "  rmse = np.sqrt(results[0])\n",
    "  print(\"RMSE:\", round(rmse, 2), \"\\n\\n\\n\")"
   ]
  },
  {
   "cell_type": "markdown",
   "metadata": {
    "colab_type": "text",
    "id": "ZiBiTmvA-wHG"
   },
   "source": [
    "### Three Hidden Layers"
   ]
  },
  {
   "cell_type": "code",
   "execution_count": 0,
   "metadata": {
    "colab": {
     "base_uri": "https://localhost:8080/",
     "height": 810
    },
    "colab_type": "code",
    "id": "PlshltdKholZ",
    "outputId": "7cea1792-98a6-42b5-f9a3-7f8f9fb56d18"
   },
   "outputs": [
    {
     "name": "stdout",
     "output_type": "stream",
     "text": [
      "Iteration # 1 , 32 nodes\n",
      "Train on 346 samples, validate on 40 samples\n",
      "Epoch 1/8\n",
      "346/346 [==============================] - 0s 658us/step - loss: 99757561217024.0000 - mean_absolute_error: 6666724.0000 - val_loss: 124497705304064.0000 - val_mean_absolute_error: 7542516.0000\n",
      "Epoch 2/8\n",
      "346/346 [==============================] - 0s 22us/step - loss: 99757552828416.0000 - mean_absolute_error: 6666724.0000 - val_loss: 124497705304064.0000 - val_mean_absolute_error: 7542516.0000\n",
      "Epoch 3/8\n",
      "346/346 [==============================] - 0s 8us/step - loss: 99757552828416.0000 - mean_absolute_error: 6666723.0000 - val_loss: 124497705304064.0000 - val_mean_absolute_error: 7542516.0000\n",
      "Epoch 4/8\n",
      "346/346 [==============================] - 0s 8us/step - loss: 99757552828416.0000 - mean_absolute_error: 6666724.0000 - val_loss: 124497705304064.0000 - val_mean_absolute_error: 7542516.0000\n",
      "Epoch 5/8\n",
      "346/346 [==============================] - 0s 8us/step - loss: 99757544439808.0000 - mean_absolute_error: 6666723.0000 - val_loss: 124497705304064.0000 - val_mean_absolute_error: 7542516.0000\n",
      "Epoch 6/8\n",
      "346/346 [==============================] - 0s 9us/step - loss: 99757552828416.0000 - mean_absolute_error: 6666723.0000 - val_loss: 124497696915456.0000 - val_mean_absolute_error: 7542516.0000\n",
      "Epoch 7/8\n",
      "346/346 [==============================] - 0s 10us/step - loss: 99757544439808.0000 - mean_absolute_error: 6666724.0000 - val_loss: 124497696915456.0000 - val_mean_absolute_error: 7542516.0000\n",
      "Epoch 8/8\n",
      "346/346 [==============================] - 0s 18us/step - loss: 99757552828416.0000 - mean_absolute_error: 6666724.0000 - val_loss: 124497696915456.0000 - val_mean_absolute_error: 7542516.0000\n",
      "40/40 [==============================] - 0s 68us/step\n",
      "RMSE: 11157853.45 \n",
      "\n",
      "\n",
      "\n",
      "Iteration # 2 , 128 nodes\n",
      "Train on 346 samples, validate on 40 samples\n",
      "Epoch 1/8\n",
      "346/346 [==============================] - 0s 752us/step - loss: 99757544439808.0000 - mean_absolute_error: 6666724.5000 - val_loss: 124497696915456.0000 - val_mean_absolute_error: 7542515.0000\n",
      "Epoch 2/8\n",
      "346/346 [==============================] - 0s 29us/step - loss: 99757544439808.0000 - mean_absolute_error: 6666723.0000 - val_loss: 124497696915456.0000 - val_mean_absolute_error: 7542515.0000\n",
      "Epoch 3/8\n",
      "346/346 [==============================] - 0s 27us/step - loss: 99757544439808.0000 - mean_absolute_error: 6666723.0000 - val_loss: 124497680138240.0000 - val_mean_absolute_error: 7542514.5000\n",
      "Epoch 4/8\n",
      "346/346 [==============================] - 0s 18us/step - loss: 99757527662592.0000 - mean_absolute_error: 6666722.5000 - val_loss: 124497654972416.0000 - val_mean_absolute_error: 7542513.5000\n",
      "Epoch 5/8\n",
      "346/346 [==============================] - 0s 25us/step - loss: 99757519273984.0000 - mean_absolute_error: 6666722.5000 - val_loss: 124497638195200.0000 - val_mean_absolute_error: 7542512.0000\n",
      "Epoch 6/8\n",
      "346/346 [==============================] - 0s 22us/step - loss: 99757502496768.0000 - mean_absolute_error: 6666721.0000 - val_loss: 124497613029376.0000 - val_mean_absolute_error: 7542511.0000\n",
      "Epoch 7/8\n",
      "346/346 [==============================] - 0s 17us/step - loss: 99757468942336.0000 - mean_absolute_error: 6666719.5000 - val_loss: 124497587863552.0000 - val_mean_absolute_error: 7542509.5000\n",
      "Epoch 8/8\n",
      "346/346 [==============================] - 0s 28us/step - loss: 99757452165120.0000 - mean_absolute_error: 6666718.5000 - val_loss: 124497562697728.0000 - val_mean_absolute_error: 7542507.0000\n",
      "40/40 [==============================] - 0s 138us/step\n",
      "RMSE: 11157847.28 \n",
      "\n",
      "\n",
      "\n"
     ]
    }
   ],
   "source": [
    "# Evaluate the model's performance on the validation set\n",
    "# when 3 hidden layers are present\n",
    "for i, num in enumerate(node_count):\n",
    "  print(\"Iteration #\", (i+1), \",\", num, \"nodes\")\n",
    "  \n",
    "  model = build_three_layer_model(num, partial_X_train)\n",
    "  results = train_and_validate_model(model)\n",
    "  \n",
    "  rmse = np.sqrt(results[0])\n",
    "  print(\"RMSE:\", round(rmse, 2), \"\\n\\n\\n\")"
   ]
  },
  {
   "cell_type": "markdown",
   "metadata": {
    "colab_type": "text",
    "id": "1ZJ8Dith_B2j"
   },
   "source": [
    "## Test Set Performance"
   ]
  },
  {
   "cell_type": "code",
   "execution_count": 0,
   "metadata": {
    "colab": {
     "base_uri": "https://localhost:8080/",
     "height": 390
    },
    "colab_type": "code",
    "id": "bF9RyMxCholc",
    "outputId": "b24a6e23-58ba-439c-e257-a8a63821edcd"
   },
   "outputs": [
    {
     "name": "stdout",
     "output_type": "stream",
     "text": [
      "Epoch 1/8\n",
      "386/386 [==============================] - 0s 749us/step - loss: 102321287593984.0000 - mean_absolute_error: 6757479.5000\n",
      "Epoch 2/8\n",
      "386/386 [==============================] - 0s 29us/step - loss: 102321287593984.0000 - mean_absolute_error: 6757479.0000\n",
      "Epoch 3/8\n",
      "386/386 [==============================] - 0s 24us/step - loss: 102321287593984.0000 - mean_absolute_error: 6757478.0000\n",
      "Epoch 4/8\n",
      "386/386 [==============================] - 0s 22us/step - loss: 102321279205376.0000 - mean_absolute_error: 6757477.5000\n",
      "Epoch 5/8\n",
      "386/386 [==============================] - 0s 20us/step - loss: 102321245650944.0000 - mean_absolute_error: 6757477.0000\n",
      "Epoch 6/8\n",
      "386/386 [==============================] - 0s 19us/step - loss: 102321228873728.0000 - mean_absolute_error: 6757475.5000\n",
      "Epoch 7/8\n",
      "386/386 [==============================] - 0s 21us/step - loss: 102321195319296.0000 - mean_absolute_error: 6757474.0000\n",
      "Epoch 8/8\n",
      "386/386 [==============================] - 0s 19us/step - loss: 102321161764864.0000 - mean_absolute_error: 6757472.0000\n",
      "97/97 [==============================] - 0s 906us/step\n",
      "RMSE: 9257654.74 \n",
      "\n",
      "\n",
      "\n"
     ]
    }
   ],
   "source": [
    "# Evaluate the performance of the model with the\n",
    "# best hyperparamter structure on the test set\n",
    "model = build_three_layer_model(128, nba_stats_cleaned)\n",
    "results = test_model(model)\n",
    "  \n",
    "rmse = np.sqrt(results[0])\n",
    "print(\"RMSE:\", round(rmse, 2), \"\\n\\n\\n\")"
   ]
  },
  {
   "cell_type": "markdown",
   "metadata": {
    "colab_type": "text",
    "id": "4yE1YyvgPJHG"
   },
   "source": [
    "# Random Forest & Neural Net Performance Observations\n",
    "\n",
    "I was amazed at the results achieved by my baseline and neural network models, and personally I think that shock is for the worse. The clear winner in my case was the random forest regressor. In fact, it performed twice as well as the neural net I used to evaluate test set performance.\n",
    "\n",
    "I believe my surprising results were the fruits of my differing hyperparameter tuning methods. I chose the systematic approach for my random forest, whereas for my neural net I manually performed the tuning using a variety of different layer sizes and quantities.\n",
    "\n",
    "The data from my neural net validation evaluation epochs doesn't suggest that there were any signs of overfitting, and that would've been the only other logical assumption I could conclude from my results. Perhaps this was just a poor neural net construction on my part."
   ]
  },
  {
   "cell_type": "markdown",
   "metadata": {
    "colab_type": "text",
    "id": "cN4H72Lqholf"
   },
   "source": [
    "# Future Work\n",
    "\n",
    "The first thing I'd immediately do given more time would be to perform systematic hyperparameter tuning on my neural net and scrap the manual tuning. I'm starting to be convinced more and more of that being the reason for the disparity in my test set evaluations.\n",
    "\n",
    "Secondly I would experiment with transformed features using PCA on my random forest model, even though it's more geared towards unsupervised learning. It'd be hard to create new features from the ones given in the dataset because of how complex they already are. But PCA would allow me to consolidate these already-complex features and help me derive even more meaning from their structure on a graphical level...and who doesn't love graphs?!"
   ]
  }
 ],
 "metadata": {
  "colab": {
   "collapsed_sections": [
    "Y82AdBcWz1bZ",
    "eiP9guCshojC",
    "i5dTpKc_znZl",
    "BGEZrFVnyTGb",
    "C23615dEya03",
    "uCoEPSqjyxLc",
    "FITxHlR6xtbY",
    "SBwSNZRbzAg4",
    "DOSS0V4KyIQN",
    "iGmYlF8AhokU",
    "aIjshgudhokf",
    "B6OGf9SnHj9L",
    "cUtzdzPg_S9F",
    "plQTppBD2Hnq",
    "-d3DBP3u9Xyh",
    "7FnhPI1r9f2f",
    "cuKOi-xz-iJQ",
    "Zarsv0Wn-pvd",
    "ZiBiTmvA-wHG",
    "1ZJ8Dith_B2j"
   ],
   "name": "NBA Salary Advanced Stats Predictions.ipynb",
   "provenance": [],
   "version": "0.3.2"
  },
  "kernelspec": {
   "display_name": "Python 3",
   "language": "python",
   "name": "python3"
  },
  "language_info": {
   "codemirror_mode": {
    "name": "ipython",
    "version": 3
   },
   "file_extension": ".py",
   "mimetype": "text/x-python",
   "name": "python",
   "nbconvert_exporter": "python",
   "pygments_lexer": "ipython3",
   "version": "3.6.6"
  }
 },
 "nbformat": 4,
 "nbformat_minor": 1
}
